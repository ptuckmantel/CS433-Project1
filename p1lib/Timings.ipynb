{
 "cells": [
  {
   "cell_type": "code",
   "execution_count": 1,
   "metadata": {},
   "outputs": [],
   "source": [
    "import p1lib as ml\n",
    "import timeit\n",
    "import numpy as np"
   ]
  },
  {
   "cell_type": "code",
   "execution_count": 2,
   "metadata": {},
   "outputs": [],
   "source": [
    "import inspect\n",
    "\n",
    "all_functions = inspect.getmembers(ml, inspect.isfunction)"
   ]
  },
  {
   "cell_type": "code",
   "execution_count": 3,
   "metadata": {},
   "outputs": [
    {
     "name": "stdout",
     "output_type": "stream",
     "text": [
      "augment_data0.026447439546754617\n",
      "batch_iter0.01648052290175578\n",
      "build_k_indices0.015200980526322995\n",
      "build_poly0.02193140763346243\n",
      "compute_e0.016925711275026345\n",
      "compute_gradient_logistic0.016674678061664366\n",
      "compute_gradient_mae0.01572956153435605\n",
      "compute_gradient_mse0.015954935475483434\n",
      "compute_loss_logistic0.015905327549163184\n",
      "compute_loss_mae0.01528608377923446\n",
      "compute_loss_mse0.015712455352866306\n",
      "compute_rmse0.01578259069697427\n",
      "compute_stoch_gradient0.015862134440901565\n",
      "cross_validation0.015985726602164962\n",
      "get_best_parameters0.015129562218603343\n",
      "gradient_descent0.015632911608939037\n",
      "gradient_descent_dynamic0.015621792590970685\n",
      "gridsearch0.01603148563765\n",
      "learning_by_gradient_descent0.016268833905820235\n",
      "learning_by_penalized_gradient0.015708178807493867\n",
      "least_squares0.01624659586988353\n",
      "logistic_regression_gradient_descent0.020419221189769132\n",
      "penalized_logistic_regression0.022085363266870106\n",
      "prediction0.016656716571100127\n",
      "reg_logistic_regression0.016240608706362125\n",
      "ridge_regression0.01556961873742696\n",
      "sigmoid0.01646469968387776\n",
      "split_data0.017364057175700998\n",
      "standardise0.015614950118374826\n",
      "stochastic_gradient_descent0.015485370793590025\n",
      "stochastic_gradient_descent_dynamic0.017920008074117644\n"
     ]
    }
   ],
   "source": [
    "for f in all_functions:\n",
    "    print(str(f[0])+ str(timeit.timeit(str(f[0]), setup='from p1lib import '+str(f[0]) )))"
   ]
  },
  {
   "cell_type": "code",
   "execution_count": null,
   "metadata": {},
   "outputs": [],
   "source": []
  }
 ],
 "metadata": {
  "kernelspec": {
   "display_name": "Python 3",
   "language": "python",
   "name": "python3"
  },
  "language_info": {
   "codemirror_mode": {
    "name": "ipython",
    "version": 3
   },
   "file_extension": ".py",
   "mimetype": "text/x-python",
   "name": "python",
   "nbconvert_exporter": "python",
   "pygments_lexer": "ipython3",
   "version": "3.6.4"
  }
 },
 "nbformat": 4,
 "nbformat_minor": 2
}
