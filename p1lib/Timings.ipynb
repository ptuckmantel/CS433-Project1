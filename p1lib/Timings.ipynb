{
 "cells": [
  {
   "cell_type": "code",
   "execution_count": 1,
   "metadata": {},
   "outputs": [],
   "source": [
    "import p1lib as ml\n",
    "import timeit\n",
    "import numpy as np"
   ]
  },
  {
   "cell_type": "code",
   "execution_count": 2,
   "metadata": {},
   "outputs": [],
   "source": [
    "import inspect\n",
    "\n",
    "all_functions = inspect.getmembers(ml, inspect.isfunction)"
   ]
  },
  {
   "cell_type": "code",
   "execution_count": 4,
   "metadata": {},
   "outputs": [
    {
     "name": "stdout",
     "output_type": "stream",
     "text": [
      "augment_data: 0.023658276654856536\n",
      "batch_iter: 0.017701476605594735\n",
      "build_k_indices: 0.025242736715341607\n",
      "build_poly: 0.01759114173496812\n",
      "compute_e: 0.016687935352322825\n",
      "compute_gradient_logistic: 0.015899768040171125\n",
      "compute_gradient_mae: 0.015594850355128642\n",
      "compute_gradient_mse: 0.01606484269154862\n",
      "compute_loss_logistic: 0.01584288998671468\n",
      "compute_loss_mae: 0.015285228470162338\n",
      "compute_loss_mse: 0.01564616889959325\n",
      "compute_rmse: 0.015978884129566495\n",
      "compute_stoch_gradient: 0.015552940210469046\n",
      "cross_validation: 0.015820651950789966\n",
      "get_best_parameters: 0.015176176563173271\n",
      "gradient_descent: 0.016502333283156645\n",
      "gradient_descent_dynamic: 0.015948520657431686\n",
      "gridsearch: 0.016014379456152028\n",
      "learning_by_gradient_descent: 0.016929987820390124\n",
      "learning_by_penalized_gradient: 0.015871115186186557\n",
      "least_squares: 0.015460139175885956\n",
      "logistic_regression_gradient_descent: 0.02382933846973856\n",
      "penalized_logistic_regression: 0.01654595404595227\n",
      "prediction: 0.016000266856437406\n",
      "reg_logistic_regression: 0.016756360078289845\n",
      "ridge_regression: 0.01918757612250488\n",
      "sigmoid: 0.016278669960172465\n",
      "split_data: 0.01847253773622981\n",
      "standardise: 0.016137116308343025\n",
      "stochastic_gradient_descent: 0.01595963967538694\n",
      "stochastic_gradient_descent_dynamic: 0.015607252336693023\n"
     ]
    }
   ],
   "source": [
    "for f in all_functions:\n",
    "    print(str(f[0])+': '+ str(timeit.timeit(str(f[0]), setup='from p1lib import '+str(f[0]) )))"
   ]
  },
  {
   "cell_type": "code",
   "execution_count": null,
   "metadata": {},
   "outputs": [],
   "source": []
  }
 ],
 "metadata": {
  "kernelspec": {
   "display_name": "Python 3",
   "language": "python",
   "name": "python3"
  },
  "language_info": {
   "codemirror_mode": {
    "name": "ipython",
    "version": 3
   },
   "file_extension": ".py",
   "mimetype": "text/x-python",
   "name": "python",
   "nbconvert_exporter": "python",
   "pygments_lexer": "ipython3",
   "version": "3.6.4"
  }
 },
 "nbformat": 4,
 "nbformat_minor": 2
}
