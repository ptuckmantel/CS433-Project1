{
 "cells": [
  {
   "cell_type": "markdown",
   "metadata": {},
   "source": [
    "TESTING FEATURE ENGINEERING AND LOGISTIC REGRESSION:\n",
    "\n",
    "1 ==All data points==\n",
    "a) All features\n",
    "b) Only pre-processed features\n",
    "c) Only raw features\n",
    "\n",
    "2 ==Removing outliers==\n",
    "a) All features\n",
    "b) Only pre-processed features\n",
    "c) Only raw features\n",
    "\n",
    "3 ==Removing the features with more than 70% missing values==\n",
    "a) All features\n",
    "b) Only pre-processed features\n",
    "c) Only raw features\n",
    "\n",
    "4 ==Removing the features with more than 30% missing values==\n",
    "a) All features\n",
    "b) Only pre-processed features\n",
    "c) Only raw features\n",
    "\n",
    "\n",
    "TAKE THE BEST SCORE OF THOSE AND TRY FEATURE ENGINEERING WITH THIS SET\n",
    "\n",
    "Skewness transformation\n",
    "Removing one item from correlated pairs of features\n",
    "\n"
   ]
  },
  {
   "cell_type": "code",
   "execution_count": 1,
   "metadata": {},
   "outputs": [],
   "source": [
    "import numpy as np\n",
    "import p1lib.p1lib as ml\n",
    "import proj1_helpers\n",
    "from Unas_code import functions as unatools\n",
    "%matplotlib inline\n",
    "import matplotlib.pyplot as plt"
   ]
  },
  {
   "cell_type": "code",
   "execution_count": 2,
   "metadata": {},
   "outputs": [],
   "source": [
    "y, X, ids=proj1_helpers.load_csv_data('train.csv')\n",
    "y=np.expand_dims(y, axis=1)\n",
    "y[y==-1]=0\n",
    "x,_,__=ml.standardise(X)\n",
    "tx=ml.augment_data(np.array(x))"
   ]
  },
  {
   "cell_type": "code",
   "execution_count": 3,
   "metadata": {},
   "outputs": [],
   "source": [
    "#Split data between training and test\n",
    "x_train, y_train, x_test, y_test=ml.split_data(tx, y, 0.8, seed=42)"
   ]
  },
  {
   "cell_type": "code",
   "execution_count": 4,
   "metadata": {},
   "outputs": [],
   "source": [
    "#DEFINE A FUNCTION THAT DIRECTLY CALCULATES THE SCORE\n",
    "def predictionToClassesLogistic(y):\n",
    "    y=y-0.5\n",
    "    y=np.ceil(y)\n",
    "    return y.astype(int)\n",
    "\n",
    "def calculate_classification_accuracy(y, tx, w):\n",
    "    y_pred=np.dot(tx,w)\n",
    "    y_pred=ml.sigmoid(y_pred)\n",
    "    class_pred=predictionToClassesLogistic(y_pred)\n",
    "    class_pred[class_pred==0]=-1\n",
    "    y[y==0]=-1\n",
    "    compare=np.squeeze(class_pred*y)\n",
    "    hits=np.sum(compare[compare==1])\n",
    "    misses=-np.sum(compare[compare==-1])\n",
    "    accuracy=hits/(hits+misses)\n",
    "    return accuracy"
   ]
  },
  {
   "cell_type": "code",
   "execution_count": 5,
   "metadata": {},
   "outputs": [],
   "source": [
    "k_fold=4\n",
    "\n",
    "\n",
    "def crossval(x, y, kfold, lambda_, gamma, w_ini, max_iter, seed, batch_size):\n",
    "    k_indices=ml.build_k_indices(y, k_fold, seed=seed)\n",
    "    all_indices = np.arange(len(y))\n",
    "    x_tr=[]\n",
    "    y_tr=[]\n",
    "    x_te=[]\n",
    "    y_te=[]\n",
    "    for k in range(k_fold):\n",
    "        test_indices = k_indices[k]\n",
    "        train_indices = [i for i in all_indices if i not in test_indices]\n",
    "        x_te.append(x[test_indices])\n",
    "        y_te.append(y[test_indices])\n",
    "        x_tr.append(x[train_indices])\n",
    "        y_tr.append(y[train_indices])\n",
    "\n",
    "\n",
    "    tr_scores = []\n",
    "    te_scores = []\n",
    "    for k in range(k_fold):\n",
    "\n",
    "            \n",
    "        w_tr, _=ml.reg_logistic_regression(y_tr[k], x_tr[k], lambda_, w_ini, max_iter, gamma)\n",
    "        #w_tr, _=ml.stochastic_reg_logistic_regression(y_tr[k], x_tr[k], lambda_, w_ini, max_iter, gamma, batch_size)\n",
    "        #w_tr, _=ml.logistic_regression(y_tr, x_tr, w_ini, max_iter, gamma)\n",
    "\n",
    "        tr_score=calculate_classification_accuracy(y_tr[k], x_tr[k], w_tr)\n",
    "        te_score=calculate_classification_accuracy(y_te[k], x_te[k], w_tr)\n",
    "            \n",
    "        tr_scores.append(tr_score)\n",
    "        te_scores.append(te_score)\n",
    "            \n",
    "    mean_tr_score=np.mean(tr_scores)\n",
    "    mean_te_score=np.mean(te_scores)\n",
    "    print('lambda: %f, gamma: %f, training score: %f, test score: %f' %(lambda_,gamma, mean_tr_score, mean_te_score))\n",
    "    return mean_te_score, mean_tr_score\n",
    "\n",
    "\n",
    "def crossval_grid(x_train, y_train, x_test, y_test, kfold, lambdas, gammas, w_ini, max_iter, seed, batch_size):\n",
    "    gs=[]\n",
    "    ls=[]\n",
    "    scores=[]\n",
    "    train_scoremap=np.zeros((len(lambdas), len(gammas)))\n",
    "    test_scoremap=np.zeros((len(lambdas), len(gammas)))\n",
    "    i=0\n",
    " \n",
    "    for l in lambdas:\n",
    "        j=0\n",
    "        for g in gammas:\n",
    "            print('lambda: %f, opt. gamma: %f' %(l, g))\n",
    "            gs.append(g)\n",
    "            ls.append(l)\n",
    "            te_score, tr_score=crossval(x_train, y_train, kfold, l, g, w_ini, max_iter, seed, batch_size)\n",
    "            scores.append(te_score)\n",
    "            train_scoremap[i,j]=tr_score\n",
    "            test_scoremap[i,j]=te_score\n",
    "            j+=1\n",
    "        i+=1\n",
    "    opt_g, opt_l, best_score=gs[np.argmax(scores)], ls[np.argmax(scores)], np.max(scores)\n",
    "    print('Crossvalidation best score: %f, opt. lambda: %f, opt. gamma: %f' %(best_score, opt_l, opt_g))\n",
    "    opt_weights,_=ml.reg_logistic_regression(y_train, x_train, opt_l, w_ini, max_iter, opt_g)\n",
    "    #opt_weights, _=ml.logistic_regression(y_train, x_train, w_ini, max_iter, opt_g)\n",
    "    #opt_weights, _=ml.stochastic_reg_logistic_regression(y_train, x_train, opt_l, w_ini, max_iter, opt_g, batch_size)\n",
    "\n",
    "    \n",
    "    #train_score=calculate_classification_accuracy(y_train, x_train, opt_weights)\n",
    "    test_score=calculate_classification_accuracy(y_test, x_test, opt_weights)\n",
    "    \n",
    "    \n",
    "    plt.subplot(211)\n",
    "    plt.contourf(gammas, lambdas, train_scoremap)\n",
    "    plt.xlabel('gamma')\n",
    "    plt.ylabel('lambda')\n",
    "    plt.colorbar()\n",
    "    plt.subplot(212)\n",
    "    plt.contourf(gammas, lambdas, test_scoremap)\n",
    "    plt.xlabel('gamma')\n",
    "    plt.ylabel('lambda')\n",
    "    plt.colorbar()\n",
    "    plt.show()\n",
    "    \n",
    "    print('Test score for optimised parameters: %f' %test_score)\n",
    "    return opt_l, opt_g, test_score    "
   ]
  },
  {
   "cell_type": "code",
   "execution_count": 6,
   "metadata": {},
   "outputs": [
    {
     "name": "stdout",
     "output_type": "stream",
     "text": [
      "lambda: 0.000000, opt. gamma: 0.050000\n",
      "Current iteration=0, loss=0.6931471605599454\n",
      "Current iteration=100, loss=0.5457438584273734\n",
      "Current iteration=200, loss=0.5264198165557732\n",
      "Current iteration=300, loss=0.5187104433864341\n",
      "Current iteration=400, loss=0.5140716633845258\n",
      "Current iteration=500, loss=0.5106945675513556\n",
      "Current iteration=600, loss=0.508021852605996\n",
      "Current iteration=700, loss=0.5058232865268537\n",
      "Current iteration=800, loss=0.5039774626615167\n",
      "Current iteration=900, loss=0.5024080426519524\n",
      "Current iteration=1000, loss=0.5010615244288201\n",
      "Current iteration=1100, loss=0.49989801014687246\n",
      "Current iteration=0, loss=0.6931471605599454\n",
      "Current iteration=100, loss=0.5499881107293877\n",
      "Current iteration=200, loss=0.5317016004560129\n",
      "Current iteration=300, loss=0.5244543229317087\n",
      "Current iteration=400, loss=0.5200811071952877\n",
      "Current iteration=500, loss=0.5168953404636122\n",
      "Current iteration=600, loss=0.514383206508072\n",
      "Current iteration=700, loss=0.5123290880824284\n",
      "Current iteration=800, loss=0.5106159337596328\n",
      "Current iteration=900, loss=0.5091685892557882\n",
      "Current iteration=1000, loss=0.5079340299848103\n",
      "Current iteration=0, loss=0.6931471605599454\n",
      "Current iteration=100, loss=0.5466384716740845\n",
      "Current iteration=200, loss=0.5277151245408177\n",
      "Current iteration=300, loss=0.5204189981605881\n",
      "Current iteration=400, loss=0.5161160754866273\n",
      "Current iteration=500, loss=0.5130115395963354\n",
      "Current iteration=600, loss=0.51056547192645\n",
      "Current iteration=700, loss=0.5085593529390501\n",
      "Current iteration=800, loss=0.5068792741677703\n",
      "Current iteration=900, loss=0.5054539842649468\n",
      "Current iteration=1000, loss=0.5042337025340387\n",
      "Current iteration=0, loss=0.6931471605599454\n",
      "Current iteration=100, loss=0.5470502885704887\n",
      "Current iteration=200, loss=0.5279713263459934\n",
      "Current iteration=300, loss=0.520489192036532\n",
      "Current iteration=400, loss=0.5160113902614\n",
      "Current iteration=500, loss=0.5127491950957079\n",
      "Current iteration=600, loss=0.5101629998249029\n",
      "Current iteration=700, loss=0.508033056291435\n",
      "Current iteration=800, loss=0.5062436907917232\n",
      "Current iteration=900, loss=0.5047217442459299\n",
      "Current iteration=1000, loss=0.5034156196540116\n",
      "Current iteration=1100, loss=0.5022866942065984\n",
      "lambda: 0.000000, gamma: 0.050000, training score: 0.748667, test score: 0.744500\n",
      "lambda: 0.000000, opt. gamma: 0.100000\n",
      "Current iteration=0, loss=0.6931471605599454\n",
      "Current iteration=100, loss=0.5263583070469079\n",
      "Current iteration=200, loss=0.5140564098461998\n",
      "Current iteration=300, loss=0.508013012822036\n",
      "Current iteration=400, loss=0.5039704596136754\n",
      "Current iteration=500, loss=0.5010556331209967\n",
      "Current iteration=600, loss=0.4988816446839859\n",
      "Current iteration=700, loss=0.49722331004908316\n",
      "Current iteration=800, loss=0.49593636588492995\n",
      "Current iteration=0, loss=0.6931471605599454\n",
      "Current iteration=100, loss=0.5316442136687112\n",
      "Current iteration=200, loss=0.5200668996271443\n",
      "Current iteration=300, loss=0.5143747186670465\n",
      "Current iteration=400, loss=0.5106092402207361\n",
      "Current iteration=500, loss=0.5079284859281384\n",
      "Current iteration=600, loss=0.505950133185132\n",
      "Current iteration=700, loss=0.5044540976598694\n",
      "Current iteration=800, loss=0.5033017703212599\n",
      "Current iteration=0, loss=0.6931471605599454\n",
      "Current iteration=100, loss=0.5276534799600335\n",
      "Current iteration=200, loss=0.5161014169862145\n",
      "Current iteration=300, loss=0.510557154644754\n",
      "Current iteration=400, loss=0.5068727420863566\n",
      "Current iteration=500, loss=0.5042282445348684\n",
      "Current iteration=600, loss=0.5022639396375117\n",
      "Current iteration=700, loss=0.5007715333375339\n",
      "Current iteration=800, loss=0.4996180552201884\n",
      "Current iteration=0, loss=0.6931471605599454\n",
      "Current iteration=100, loss=0.5279099278785999\n",
      "Current iteration=200, loss=0.5159964165187937\n",
      "Current iteration=300, loss=0.5101543461123552\n",
      "Current iteration=400, loss=0.5062368529707323\n",
      "Current iteration=500, loss=0.5034098899145744\n",
      "Current iteration=600, loss=0.5013002108112031\n",
      "Current iteration=700, loss=0.49968962004942863\n",
      "Current iteration=800, loss=0.49843848224616305\n",
      "lambda: 0.000000, gamma: 0.100000, training score: 0.749233, test score: 0.745900\n",
      "lambda: 0.000000, opt. gamma: 0.250000\n",
      "Current iteration=0, loss=0.6931471605599454\n",
      "Current iteration=100, loss=0.5106514648319533\n",
      "Current iteration=200, loss=0.5010379632638889\n",
      "Current iteration=300, loss=0.4965285085678284\n",
      "Current iteration=400, loss=0.4941095987976165\n",
      "Current iteration=500, loss=0.4927141033315751\n",
      "Current iteration=0, loss=0.6931471605599454\n",
      "Current iteration=100, loss=0.5168543850667656\n",
      "Current iteration=200, loss=0.5079118589630779\n",
      "Current iteration=300, loss=0.5038307849991471\n",
      "Current iteration=400, loss=0.5016816763550476\n",
      "Current iteration=0, loss=0.6931471605599454\n",
      "Current iteration=100, loss=0.5129706633433659\n",
      "Current iteration=200, loss=0.5042118639254694\n",
      "Current iteration=300, loss=0.5001479892986441\n",
      "Current iteration=400, loss=0.49799051689885604\n",
      "Current iteration=0, loss=0.6931471605599454\n",
      "Current iteration=100, loss=0.5127069847981504\n",
      "Current iteration=200, loss=0.5033927095881523\n",
      "Current iteration=300, loss=0.4990143735892798\n",
      "Current iteration=400, loss=0.4966600256842811\n",
      "Current iteration=500, loss=0.4952991251843293\n",
      "lambda: 0.000000, gamma: 0.250000, training score: 0.750667, test score: 0.747400\n",
      "lambda: 0.000000, opt. gamma: 0.500000\n",
      "Current iteration=0, loss=0.6931471605599454\n",
      "Current iteration=100, loss=0.5010083704604841\n",
      "Current iteration=200, loss=0.4940962322448993\n",
      "Current iteration=300, loss=0.49186274800974206\n",
      "Current iteration=0, loss=0.6931471605599454\n",
      "Current iteration=100, loss=0.5078840267655985\n",
      "Current iteration=200, loss=0.5016697997849263\n",
      "Current iteration=300, loss=0.49972759974181535\n",
      "Current iteration=0, loss=0.6931471605599454\n",
      "Current iteration=100, loss=0.5041843912360715\n",
      "Current iteration=200, loss=0.4979784398339651\n",
      "Current iteration=300, loss=0.49601546645855693\n",
      "Current iteration=0, loss=0.6931471605599454\n",
      "Current iteration=100, loss=0.5033640157791681\n",
      "Current iteration=200, loss=0.496647124313442\n",
      "Current iteration=300, loss=0.49446845388442745\n",
      "lambda: 0.000000, gamma: 0.500000, training score: 0.751867, test score: 0.748200\n",
      "lambda: 0.000000, opt. gamma: 0.750000\n",
      "Current iteration=0, loss=0.6931471605599454\n",
      "Current iteration=100, loss=0.49648302469605027\n",
      "Current iteration=200, loss=0.49185522147789307\n",
      "Current iteration=0, loss=0.6931471605599454\n",
      "Current iteration=100, loss=0.5037907145320053\n",
      "Current iteration=200, loss=0.499721379984205\n",
      "Current iteration=0, loss=0.6931471605599454\n",
      "Current iteration=100, loss=0.5001071796254064\n",
      "Current iteration=200, loss=0.49600888513125757\n",
      "Current iteration=0, loss=0.6931471605599454\n",
      "Current iteration=100, loss=0.49897234948366337\n",
      "Current iteration=200, loss=0.49446155859554186\n",
      "lambda: 0.000000, gamma: 0.750000, training score: 0.752233, test score: 0.749300\n",
      "lambda: 0.000000, opt. gamma: 1.000000\n",
      "Current iteration=0, loss=0.6931471605599454\n",
      "Current iteration=100, loss=0.4943638174810883\n",
      "Current iteration=0, loss=0.6931471605599454\n",
      "Current iteration=100, loss=0.501959815628291\n",
      "Current iteration=0, loss=0.6931471605599454\n",
      "Current iteration=0, loss=0.6931471605599454\n",
      "Current iteration=100, loss=0.4976084466259199\n",
      "lambda: 0.000000, gamma: 1.000000, training score: 0.750533, test score: 0.745900\n",
      "lambda: 0.010000, opt. gamma: 0.050000\n",
      "Current iteration=0, loss=0.6931471605599454\n",
      "Current iteration=100, loss=0.5536766895471043\n",
      "Current iteration=200, loss=0.5395599592092489\n",
      "Current iteration=300, loss=0.5351076040251452\n",
      "Current iteration=400, loss=0.5329344395860738\n",
      "Current iteration=500, loss=0.53164302195023\n",
      "Current iteration=0, loss=0.6931471605599454\n",
      "Current iteration=100, loss=0.5576171377433925\n",
      "Current iteration=200, loss=0.5442439750324424\n",
      "Current iteration=300, loss=0.5400472898463466\n",
      "Current iteration=400, loss=0.5379913138169355\n",
      "Current iteration=0, loss=0.6931471605599454\n",
      "Current iteration=100, loss=0.5545884586930643\n",
      "Current iteration=200, loss=0.540773912996841\n",
      "Current iteration=300, loss=0.5365754010168959\n",
      "Current iteration=400, loss=0.5345680188179621\n",
      "Current iteration=0, loss=0.6931471605599454\n",
      "Current iteration=100, loss=0.5549364859558739\n",
      "Current iteration=200, loss=0.5409996671445045\n",
      "Current iteration=300, loss=0.5366908082346269\n",
      "Current iteration=400, loss=0.5346026906995517\n",
      "lambda: 0.010000, gamma: 0.050000, training score: 0.740833, test score: 0.737600\n",
      "lambda: 0.010000, opt. gamma: 0.100000\n"
     ]
    },
    {
     "name": "stdout",
     "output_type": "stream",
     "text": [
      "Current iteration=0, loss=0.6931471605599454\n",
      "Current iteration=100, loss=0.539514885929478\n",
      "Current iteration=200, loss=0.5329252845369319\n",
      "Current iteration=300, loss=0.5308085367229637\n",
      "Current iteration=0, loss=0.6931471605599454\n",
      "Current iteration=100, loss=0.54420182622132\n",
      "Current iteration=200, loss=0.5379826707400521\n",
      "Current iteration=300, loss=0.5359843162341378\n",
      "Current iteration=0, loss=0.6931471605599454\n",
      "Current iteration=100, loss=0.5407290890935549\n",
      "Current iteration=200, loss=0.5345593993634273\n",
      "Current iteration=300, loss=0.5326226051098861\n",
      "Current iteration=0, loss=0.6931471605599454\n",
      "Current iteration=100, loss=0.5409548370687327\n",
      "Current iteration=200, loss=0.5345938278037022\n",
      "Current iteration=300, loss=0.5325579363572778\n",
      "lambda: 0.010000, gamma: 0.100000, training score: 0.742367, test score: 0.739800\n",
      "lambda: 0.010000, opt. gamma: 0.250000\n",
      "Current iteration=0, loss=0.6931471605599454\n",
      "Current iteration=100, loss=0.5316189180675198\n",
      "Current iteration=0, loss=0.6931471605599454\n",
      "Current iteration=100, loss=0.5367468107517448\n",
      "Current iteration=0, loss=0.6931471605599454\n",
      "Current iteration=100, loss=0.5333622260465642\n",
      "Current iteration=0, loss=0.6931471605599454\n",
      "Current iteration=100, loss=0.5333382447256338\n",
      "lambda: 0.010000, gamma: 0.250000, training score: 0.744267, test score: 0.741500\n",
      "lambda: 0.010000, opt. gamma: 0.500000\n",
      "Current iteration=0, loss=0.6931471605599454\n",
      "Current iteration=100, loss=0.5294513605073451\n",
      "Current iteration=0, loss=0.6931471605599454\n",
      "Current iteration=100, loss=0.5347247425840133\n",
      "Current iteration=0, loss=0.6931471605599454\n",
      "Current iteration=100, loss=0.5313890796727357\n",
      "Current iteration=0, loss=0.6931471605599454\n",
      "Current iteration=100, loss=0.5312470414331228\n",
      "lambda: 0.010000, gamma: 0.500000, training score: 0.745167, test score: 0.743100\n",
      "lambda: 0.010000, opt. gamma: 0.750000\n",
      "Current iteration=0, loss=0.6931471605599454\n",
      "Current iteration=0, loss=0.6931471605599454\n",
      "Current iteration=0, loss=0.6931471605599454\n",
      "Current iteration=0, loss=0.6931471605599454\n",
      "lambda: 0.010000, gamma: 0.750000, training score: 0.745567, test score: 0.743000\n",
      "lambda: 0.010000, opt. gamma: 1.000000\n",
      "Current iteration=0, loss=0.6931471605599454\n",
      "Current iteration=100, loss=0.5898574770964508\n",
      "Current iteration=200, loss=0.5891662576961734\n",
      "Current iteration=300, loss=0.5891471909154448\n",
      "Current iteration=400, loss=0.5891465627880206\n",
      "Current iteration=500, loss=0.5891465392773851\n",
      "Current iteration=600, loss=0.5891465382916958\n",
      "Current iteration=700, loss=0.5891465382461535\n",
      "Current iteration=800, loss=0.589146538243888\n",
      "Current iteration=900, loss=0.5891465382437706\n",
      "Current iteration=1000, loss=0.589146538243765\n",
      "Current iteration=1100, loss=0.5891465382437648\n",
      "Current iteration=1200, loss=0.5891465382437648\n",
      "Current iteration=1300, loss=0.589146538243765\n",
      "Current iteration=1400, loss=0.589146538243765\n",
      "Current iteration=0, loss=0.6931471605599454\n",
      "Current iteration=100, loss=0.5902424434080028\n",
      "Current iteration=200, loss=0.5896259700948862\n",
      "Current iteration=300, loss=0.5896098646219757\n",
      "Current iteration=400, loss=0.5896093604537241\n",
      "Current iteration=500, loss=0.589609343017874\n",
      "Current iteration=600, loss=0.5896093423821418\n",
      "Current iteration=700, loss=0.589609342359753\n",
      "Current iteration=800, loss=0.5896093423592227\n",
      "Current iteration=900, loss=0.5896093423592526\n",
      "Current iteration=1000, loss=0.589609342359261\n",
      "Current iteration=1100, loss=0.5896093423592622\n",
      "Current iteration=1200, loss=0.5896093423592625\n",
      "Current iteration=1300, loss=0.5896093423592625\n",
      "Current iteration=1400, loss=0.5896093423592624\n",
      "Current iteration=0, loss=0.6931471605599454\n",
      "Current iteration=100, loss=0.5895701505867756\n",
      "Current iteration=200, loss=0.5889408770737736\n",
      "Current iteration=300, loss=0.5889236930969496\n",
      "Current iteration=400, loss=0.5889231287919474\n",
      "Current iteration=500, loss=0.5889231073104523\n",
      "Current iteration=600, loss=0.588923106358984\n",
      "Current iteration=700, loss=0.5889231063100792\n",
      "Current iteration=800, loss=0.5889231063072202\n",
      "Current iteration=900, loss=0.5889231063070364\n",
      "Current iteration=1000, loss=0.5889231063070238\n",
      "Current iteration=1100, loss=0.588923106307023\n",
      "Current iteration=1200, loss=0.5889231063070229\n",
      "Current iteration=1300, loss=0.5889231063070229\n",
      "Current iteration=1400, loss=0.5889231063070229\n",
      "Current iteration=0, loss=0.6931471605599454\n",
      "Current iteration=100, loss=0.5921289870087733\n",
      "Current iteration=200, loss=0.5914582417300596\n",
      "Current iteration=300, loss=0.5914392799863848\n",
      "Current iteration=400, loss=0.5914386453295385\n",
      "Current iteration=500, loss=0.5914386213234518\n",
      "Current iteration=600, loss=0.5914386202988055\n",
      "Current iteration=700, loss=0.5914386202493681\n",
      "Current iteration=800, loss=0.5914386202466785\n",
      "Current iteration=900, loss=0.5914386202465146\n",
      "Current iteration=1000, loss=0.5914386202465034\n",
      "Current iteration=1100, loss=0.5914386202465024\n",
      "Current iteration=1200, loss=0.5914386202465024\n",
      "Current iteration=1300, loss=0.5914386202465024\n",
      "Current iteration=1400, loss=0.5914386202465024\n",
      "lambda: 0.010000, gamma: 1.000000, training score: 0.715400, test score: 0.714000\n",
      "lambda: 0.050000, opt. gamma: 0.050000\n",
      "Current iteration=0, loss=0.6931471605599454\n",
      "Current iteration=100, loss=0.578258779516303\n",
      "Current iteration=200, loss=0.5739874556241619\n",
      "Current iteration=0, loss=0.6931471605599454\n",
      "Current iteration=100, loss=0.5812848568730026\n",
      "Current iteration=200, loss=0.5772242646386028\n",
      "Current iteration=0, loss=0.6931471605599454\n",
      "Current iteration=100, loss=0.5792270461205992\n",
      "Current iteration=200, loss=0.575055582908965\n",
      "Current iteration=0, loss=0.6931471605599454\n",
      "Current iteration=100, loss=0.5793740898598507\n",
      "Current iteration=200, loss=0.5751559840069458\n",
      "lambda: 0.050000, gamma: 0.050000, training score: 0.730700, test score: 0.727200\n",
      "lambda: 0.050000, opt. gamma: 0.100000\n",
      "Current iteration=0, loss=0.6931471605599454\n",
      "Current iteration=100, loss=0.5739756056586727\n",
      "Current iteration=0, loss=0.6931471605599454\n",
      "Current iteration=100, loss=0.5772130889505777\n",
      "Current iteration=0, loss=0.6931471605599454\n",
      "Current iteration=100, loss=0.5750440760430785\n",
      "Current iteration=0, loss=0.6931471605599454\n",
      "Current iteration=100, loss=0.5751443382134481\n",
      "lambda: 0.050000, gamma: 0.100000, training score: 0.731867, test score: 0.728900\n",
      "lambda: 0.050000, opt. gamma: 0.250000\n",
      "Current iteration=0, loss=0.6931471605599454\n",
      "Current iteration=0, loss=0.6931471605599454\n",
      "Current iteration=0, loss=0.6931471605599454\n",
      "Current iteration=0, loss=0.6931471605599454\n",
      "lambda: 0.050000, gamma: 0.250000, training score: 0.732233, test score: 0.730300\n",
      "lambda: 0.050000, opt. gamma: 0.500000\n",
      "Current iteration=0, loss=0.6931471605599454\n",
      "Current iteration=0, loss=0.6931471605599454\n",
      "Current iteration=0, loss=0.6931471605599454\n",
      "Current iteration=0, loss=0.6931471605599454\n",
      "lambda: 0.050000, gamma: 0.500000, training score: 0.733200, test score: 0.731000\n",
      "lambda: 0.050000, opt. gamma: 0.750000\n",
      "Current iteration=0, loss=0.6931471605599454\n",
      "Current iteration=0, loss=0.6931471605599454\n",
      "Current iteration=0, loss=0.6931471605599454\n",
      "Current iteration=0, loss=0.6931471605599454\n",
      "lambda: 0.050000, gamma: 0.750000, training score: 0.735533, test score: 0.733700\n",
      "lambda: 0.050000, opt. gamma: 1.000000\n",
      "Current iteration=0, loss=0.6931471605599454\n",
      "Current iteration=100, loss=0.7610335310956113\n",
      "Current iteration=200, loss=0.7610335079821222\n",
      "Current iteration=300, loss=0.7610335079819096\n",
      "Current iteration=400, loss=0.7610335079819096\n",
      "Current iteration=500, loss=0.7610335079819096\n",
      "Current iteration=600, loss=0.7610335079819096\n",
      "Current iteration=700, loss=0.7610335079819096\n",
      "Current iteration=800, loss=0.7610335079819096\n",
      "Current iteration=900, loss=0.7610335079819096\n",
      "Current iteration=1000, loss=0.7610335079819096\n",
      "Current iteration=1100, loss=0.7610335079819096\n",
      "Current iteration=1200, loss=0.7610335079819096\n",
      "Current iteration=1300, loss=0.7610335079819096\n",
      "Current iteration=1400, loss=0.7610335079819096\n",
      "Current iteration=0, loss=0.6931471605599454\n",
      "Current iteration=100, loss=0.7505096566563125\n",
      "Current iteration=200, loss=0.7505096365356634\n",
      "Current iteration=300, loss=0.7505096365354935\n",
      "Current iteration=400, loss=0.7505096365354935\n",
      "Current iteration=500, loss=0.7505096365354935\n",
      "Current iteration=600, loss=0.7505096365354935\n",
      "Current iteration=700, loss=0.7505096365354935\n",
      "Current iteration=800, loss=0.7505096365354935\n",
      "Current iteration=900, loss=0.7505096365354935\n"
     ]
    },
    {
     "name": "stdout",
     "output_type": "stream",
     "text": [
      "Current iteration=1000, loss=0.7505096365354935\n",
      "Current iteration=1100, loss=0.7505096365354935\n",
      "Current iteration=1200, loss=0.7505096365354935\n",
      "Current iteration=1300, loss=0.7505096365354935\n",
      "Current iteration=1400, loss=0.7505096365354935\n",
      "Current iteration=0, loss=0.6931471605599454\n",
      "Current iteration=100, loss=0.7597052444168367\n",
      "Current iteration=200, loss=0.7597052210622238\n",
      "Current iteration=300, loss=0.7597052210620102\n",
      "Current iteration=400, loss=0.7597052210620102\n",
      "Current iteration=500, loss=0.7597052210620101\n",
      "Current iteration=600, loss=0.7597052210620101\n",
      "Current iteration=700, loss=0.7597052210620101\n",
      "Current iteration=800, loss=0.7597052210620101\n",
      "Current iteration=900, loss=0.7597052210620101\n",
      "Current iteration=1000, loss=0.7597052210620101\n",
      "Current iteration=1100, loss=0.7597052210620101\n",
      "Current iteration=1200, loss=0.7597052210620101\n",
      "Current iteration=1300, loss=0.7597052210620101\n",
      "Current iteration=1400, loss=0.7597052210620101\n",
      "Current iteration=0, loss=0.6931471605599454\n",
      "Current iteration=100, loss=0.7583740917803847\n",
      "Current iteration=200, loss=0.7583740708846912\n",
      "Current iteration=300, loss=0.7583740708844964\n",
      "Current iteration=400, loss=0.7583740708844964\n",
      "Current iteration=500, loss=0.7583740708844964\n",
      "Current iteration=600, loss=0.7583740708844964\n",
      "Current iteration=700, loss=0.7583740708844964\n",
      "Current iteration=800, loss=0.7583740708844964\n",
      "Current iteration=900, loss=0.7583740708844964\n",
      "Current iteration=1000, loss=0.7583740708844964\n",
      "Current iteration=1100, loss=0.7583740708844964\n",
      "Current iteration=1200, loss=0.7583740708844964\n",
      "Current iteration=1300, loss=0.7583740708844964\n",
      "Current iteration=1400, loss=0.7583740708844964\n",
      "lambda: 0.050000, gamma: 1.000000, training score: 0.616167, test score: 0.614700\n",
      "lambda: 0.100000, opt. gamma: 0.050000\n",
      "Current iteration=0, loss=0.6931471605599454\n",
      "Current iteration=100, loss=0.5985038850513809\n",
      "Current iteration=0, loss=0.6931471605599454\n",
      "Current iteration=100, loss=0.6008137552312858\n",
      "Current iteration=0, loss=0.6931471605599454\n",
      "Current iteration=100, loss=0.5995200581235262\n",
      "Current iteration=0, loss=0.6931471605599454\n",
      "Current iteration=100, loss=0.5994941237909337\n",
      "lambda: 0.100000, gamma: 0.050000, training score: 0.721700, test score: 0.719400\n",
      "lambda: 0.100000, opt. gamma: 0.100000\n",
      "Current iteration=0, loss=0.6931471605599454\n",
      "Current iteration=0, loss=0.6931471605599454\n",
      "Current iteration=0, loss=0.6931471605599454\n",
      "Current iteration=0, loss=0.6931471605599454\n",
      "lambda: 0.100000, gamma: 0.100000, training score: 0.722767, test score: 0.721100\n",
      "lambda: 0.100000, opt. gamma: 0.250000\n",
      "Current iteration=0, loss=0.6931471605599454\n",
      "Current iteration=0, loss=0.6931471605599454\n",
      "Current iteration=0, loss=0.6931471605599454\n",
      "Current iteration=0, loss=0.6931471605599454\n",
      "lambda: 0.100000, gamma: 0.250000, training score: 0.723533, test score: 0.721600\n",
      "lambda: 0.100000, opt. gamma: 0.500000\n",
      "Current iteration=0, loss=0.6931471605599454\n",
      "Current iteration=0, loss=0.6931471605599454\n",
      "Current iteration=0, loss=0.6931471605599454\n",
      "Current iteration=0, loss=0.6931471605599454\n",
      "lambda: 0.100000, gamma: 0.500000, training score: 0.723700, test score: 0.721700\n",
      "lambda: 0.100000, opt. gamma: 0.750000\n",
      "Current iteration=0, loss=0.6931471605599454\n",
      "Current iteration=100, loss=0.6483754645885359\n",
      "Current iteration=200, loss=0.6483754645314809\n",
      "Current iteration=300, loss=0.6483754645314809\n",
      "Current iteration=400, loss=0.6483754645314809\n",
      "Current iteration=500, loss=0.6483754645314809\n",
      "Current iteration=600, loss=0.6483754645314809\n",
      "Current iteration=700, loss=0.6483754645314809\n",
      "Current iteration=800, loss=0.6483754645314809\n",
      "Current iteration=900, loss=0.6483754645314809\n",
      "Current iteration=1000, loss=0.6483754645314809\n",
      "Current iteration=1100, loss=0.6483754645314809\n",
      "Current iteration=1200, loss=0.6483754645314809\n",
      "Current iteration=1300, loss=0.6483754645314809\n",
      "Current iteration=1400, loss=0.6483754645314809\n",
      "Current iteration=0, loss=0.6931471605599454\n",
      "Current iteration=100, loss=0.6383889595090758\n",
      "Current iteration=200, loss=0.6383889594377579\n",
      "Current iteration=300, loss=0.6383889594377579\n",
      "Current iteration=400, loss=0.6383889594377579\n",
      "Current iteration=500, loss=0.638388959437758\n",
      "Current iteration=600, loss=0.6383889594377579\n",
      "Current iteration=700, loss=0.6383889594377579\n",
      "Current iteration=800, loss=0.6383889594377579\n",
      "Current iteration=900, loss=0.6383889594377579\n",
      "Current iteration=1000, loss=0.6383889594377579\n",
      "Current iteration=1100, loss=0.6383889594377579\n",
      "Current iteration=1200, loss=0.6383889594377579\n",
      "Current iteration=1300, loss=0.6383889594377579\n",
      "Current iteration=1400, loss=0.6383889594377579\n",
      "Current iteration=0, loss=0.6931471605599454\n",
      "Current iteration=100, loss=0.6453312897263918\n",
      "Current iteration=200, loss=0.6453312896703387\n",
      "Current iteration=300, loss=0.6453312896703387\n",
      "Current iteration=400, loss=0.6453312896703387\n",
      "Current iteration=500, loss=0.6453312896703387\n",
      "Current iteration=600, loss=0.6453312896703387\n",
      "Current iteration=700, loss=0.6453312896703387\n",
      "Current iteration=800, loss=0.6453312896703387\n",
      "Current iteration=900, loss=0.6453312896703387\n",
      "Current iteration=1000, loss=0.6453312896703387\n",
      "Current iteration=1100, loss=0.6453312896703387\n",
      "Current iteration=1200, loss=0.6453312896703387\n",
      "Current iteration=1300, loss=0.6453312896703387\n",
      "Current iteration=1400, loss=0.6453312896703387\n",
      "Current iteration=0, loss=0.6931471605599454\n",
      "Current iteration=100, loss=0.644331436440005\n",
      "Current iteration=200, loss=0.6443314363833139\n",
      "Current iteration=300, loss=0.6443314363833139\n",
      "Current iteration=400, loss=0.6443314363833139\n",
      "Current iteration=500, loss=0.6443314363833139\n",
      "Current iteration=600, loss=0.6443314363833139\n",
      "Current iteration=700, loss=0.6443314363833139\n",
      "Current iteration=800, loss=0.6443314363833139\n",
      "Current iteration=900, loss=0.6443314363833139\n",
      "Current iteration=1000, loss=0.6443314363833139\n",
      "Current iteration=1100, loss=0.6443314363833139\n",
      "Current iteration=1200, loss=0.6443314363833139\n",
      "Current iteration=1300, loss=0.6443314363833139\n",
      "Current iteration=1400, loss=0.6443314363833139\n",
      "lambda: 0.100000, gamma: 0.750000, training score: 0.680000, test score: 0.679800\n",
      "lambda: 0.100000, opt. gamma: 1.000000\n",
      "Current iteration=0, loss=0.6931471605599454\n",
      "Current iteration=100, loss=0.8741430522329324\n",
      "Current iteration=200, loss=0.8741430522329227\n",
      "Current iteration=300, loss=0.8741430522329227\n",
      "Current iteration=400, loss=0.8741430522329227\n",
      "Current iteration=500, loss=0.8741430522329227\n",
      "Current iteration=600, loss=0.8741430522329227\n",
      "Current iteration=700, loss=0.8741430522329227\n",
      "Current iteration=800, loss=0.8741430522329227\n",
      "Current iteration=900, loss=0.8741430522329227\n",
      "Current iteration=1000, loss=0.8741430522329227\n",
      "Current iteration=1100, loss=0.8741430522329227\n",
      "Current iteration=1200, loss=0.8741430522329227\n",
      "Current iteration=1300, loss=0.8741430522329227\n",
      "Current iteration=1400, loss=0.8741430522329227\n",
      "Current iteration=0, loss=0.6931471605599454\n",
      "Current iteration=100, loss=0.8585163319028604\n",
      "Current iteration=200, loss=0.8585163319028488\n",
      "Current iteration=300, loss=0.8585163319028488\n",
      "Current iteration=400, loss=0.8585163319028488\n",
      "Current iteration=500, loss=0.8585163319028488\n",
      "Current iteration=600, loss=0.8585163319028488\n",
      "Current iteration=700, loss=0.8585163319028488\n",
      "Current iteration=800, loss=0.8585163319028488\n",
      "Current iteration=900, loss=0.8585163319028488\n",
      "Current iteration=1000, loss=0.8585163319028488\n",
      "Current iteration=1100, loss=0.8585163319028488\n",
      "Current iteration=1200, loss=0.8585163319028488\n",
      "Current iteration=1300, loss=0.8585163319028488\n",
      "Current iteration=1400, loss=0.8585163319028488\n",
      "Current iteration=0, loss=0.6931471605599454\n",
      "Current iteration=100, loss=0.8762839682514306\n",
      "Current iteration=200, loss=0.8762839682513988\n",
      "Current iteration=300, loss=0.8762839682513988\n",
      "Current iteration=400, loss=0.8762839682513988\n",
      "Current iteration=500, loss=0.8762839682513988\n",
      "Current iteration=600, loss=0.8762839682513988\n",
      "Current iteration=700, loss=0.8762839682513988\n",
      "Current iteration=800, loss=0.8762839682513988\n",
      "Current iteration=900, loss=0.8762839682513988\n",
      "Current iteration=1000, loss=0.8762839682513988\n",
      "Current iteration=1100, loss=0.8762839682513988\n",
      "Current iteration=1200, loss=0.8762839682513988\n",
      "Current iteration=1300, loss=0.8762839682513988\n",
      "Current iteration=1400, loss=0.8762839682513988\n"
     ]
    },
    {
     "name": "stdout",
     "output_type": "stream",
     "text": [
      "Current iteration=0, loss=0.6931471605599454\n",
      "Current iteration=100, loss=0.8706175647812181\n",
      "Current iteration=200, loss=0.8706175647812038\n",
      "Current iteration=300, loss=0.870617564781204\n",
      "Current iteration=400, loss=0.870617564781204\n",
      "Current iteration=500, loss=0.870617564781204\n",
      "Current iteration=600, loss=0.870617564781204\n",
      "Current iteration=700, loss=0.870617564781204\n",
      "Current iteration=800, loss=0.870617564781204\n",
      "Current iteration=900, loss=0.870617564781204\n",
      "Current iteration=1000, loss=0.870617564781204\n",
      "Current iteration=1100, loss=0.870617564781204\n",
      "Current iteration=1200, loss=0.870617564781204\n",
      "Current iteration=1300, loss=0.870617564781204\n",
      "Current iteration=1400, loss=0.870617564781204\n",
      "lambda: 0.100000, gamma: 1.000000, training score: 0.538600, test score: 0.539000\n",
      "Crossvalidation best score: 0.749300, opt. lambda: 0.000000, opt. gamma: 0.750000\n",
      "Current iteration=0, loss=0.6931471605599451\n",
      "Current iteration=100, loss=0.500333176787253\n",
      "Current iteration=200, loss=0.49604901729408646\n"
     ]
    },
    {
     "data": {
      "image/png": "[encoded data removed]",
      "text/plain": [
       "<matplotlib.figure.Figure at 0x239090bee48>"
      ]
     },
     "metadata": {},
     "output_type": "display_data"
    },
    {
     "name": "stdout",
     "output_type": "stream",
     "text": [
      "Test score for optimised parameters: 0.750100\n"
     ]
    },
    {
     "data": {
      "text/plain": [
       "(0.0, 0.75, 0.7501)"
      ]
     },
     "execution_count": 6,
     "metadata": {},
     "output_type": "execute_result"
    }
   ],
   "source": [
    "sampsize=10000\n",
    "x_toy_tr=x_train[:sampsize,:]\n",
    "y_toy_tr=y_train[:sampsize,:]\n",
    "x_toy_te=x_test[:sampsize,:]\n",
    "y_toy_te=y_test[:sampsize,:]\n",
    "#lambdas=np.array([0, 0.05, 0.1, 0.5, 1, 1.5])\n",
    "lambdas=np.array([0, 0.01, 0.05, 0.1])\n",
    "gammas=np.array([0.05, 0.1, 0.25, 0.5, 0.75, 1])\n",
    "w_ini=np.zeros((x_toy_tr.shape[1],1))\n",
    "crossval_grid(x_toy_tr, y_toy_tr, x_toy_te, y_toy_te, 4, lambdas, gammas, w_ini, 1500, 42, 20)"
   ]
  },
  {
   "cell_type": "code",
   "execution_count": 7,
   "metadata": {},
   "outputs": [
    {
     "name": "stdout",
     "output_type": "stream",
     "text": [
      "lambda: 0.000000, opt. gamma: 0.100000\n",
      "Current iteration=0, loss=0.6931471605599454\n",
      "Current iteration=100, loss=0.5327855557850758\n",
      "Current iteration=200, loss=0.5208514935586713\n",
      "Current iteration=300, loss=0.5149315251221098\n",
      "Current iteration=400, loss=0.511005906437574\n",
      "Current iteration=500, loss=0.5082156913605026\n",
      "Current iteration=600, loss=0.5061656769478793\n",
      "Current iteration=700, loss=0.5046245219629704\n",
      "Current iteration=800, loss=0.5034450472049325\n",
      "Current iteration=0, loss=0.6931471605599456\n",
      "Current iteration=100, loss=0.5314263731990185\n",
      "Current iteration=200, loss=0.5194832312923232\n",
      "Current iteration=300, loss=0.5135738810494963\n",
      "Current iteration=400, loss=0.5096809022339907\n",
      "Current iteration=500, loss=0.5069195866949966\n",
      "Current iteration=600, loss=0.5048835550957849\n",
      "Current iteration=700, loss=0.5033482137951738\n",
      "Current iteration=800, loss=0.5021704758758424\n",
      "Current iteration=0, loss=0.6931471605599456\n",
      "Current iteration=100, loss=0.530858902327154\n",
      "Current iteration=200, loss=0.5188735814728163\n",
      "Current iteration=300, loss=0.5129562301289902\n",
      "Current iteration=400, loss=0.50905625141696\n",
      "Current iteration=500, loss=0.5062898038424989\n",
      "Current iteration=600, loss=0.5042482033112697\n",
      "Current iteration=700, loss=0.5027069195891659\n",
      "Current iteration=800, loss=0.5015231047983613\n",
      "Current iteration=0, loss=0.6931471605599455\n",
      "Current iteration=100, loss=0.52973073400783\n",
      "Current iteration=200, loss=0.517875318727244\n",
      "Current iteration=300, loss=0.5121337950041699\n",
      "Current iteration=400, loss=0.5083669260984667\n",
      "Current iteration=500, loss=0.5057011904258197\n",
      "Current iteration=600, loss=0.5037348151624639\n",
      "Current iteration=700, loss=0.5022506542212131\n",
      "Current iteration=800, loss=0.5011113314670379\n",
      "lambda: 0.000000, gamma: 0.100000, training score: 0.748127, test score: 0.747660\n",
      "lambda: 0.000000, opt. gamma: 0.500000\n",
      "Current iteration=0, loss=0.6931471605599454\n",
      "Current iteration=100, loss=0.5081691938818483\n",
      "Current iteration=200, loss=0.5017898136611867\n",
      "Current iteration=300, loss=0.4998616111676195\n",
      "Current iteration=0, loss=0.6931471605599456\n",
      "Current iteration=100, loss=0.5068738629949252\n",
      "Current iteration=200, loss=0.5005139030626897\n",
      "Current iteration=300, loss=0.4985775286704941\n",
      "Current iteration=0, loss=0.6931471605599456\n",
      "Current iteration=100, loss=0.50624425586926\n",
      "Current iteration=200, loss=0.49985455086413316\n",
      "Current iteration=300, loss=0.49789309311872754\n",
      "Current iteration=0, loss=0.6931471605599455\n",
      "Current iteration=100, loss=0.5056571776477095\n",
      "Current iteration=200, loss=0.4995078903031043\n",
      "Current iteration=300, loss=0.49763413703432363\n",
      "lambda: 0.000000, gamma: 0.500000, training score: 0.749412, test score: 0.749295\n",
      "lambda: 0.050000, opt. gamma: 0.100000\n",
      "Current iteration=0, loss=0.6931471605599454\n",
      "Current iteration=100, loss=0.5782180994436733\n",
      "Current iteration=0, loss=0.6931471605599456\n",
      "Current iteration=100, loss=0.5771357127465131\n",
      "Current iteration=0, loss=0.6931471605599456\n",
      "Current iteration=100, loss=0.5767861962370697\n",
      "Current iteration=0, loss=0.6931471605599455\n",
      "Current iteration=100, loss=0.5760339910429839\n",
      "lambda: 0.050000, gamma: 0.100000, training score: 0.725548, test score: 0.725545\n",
      "lambda: 0.050000, opt. gamma: 0.500000\n",
      "Current iteration=0, loss=0.6931471605599454\n",
      "Current iteration=0, loss=0.6931471605599456\n",
      "Current iteration=0, loss=0.6931471605599456\n",
      "Current iteration=0, loss=0.6931471605599455\n",
      "lambda: 0.050000, gamma: 0.500000, training score: 0.727345, test score: 0.727150\n",
      "Crossvalidation best score: 0.749295, opt. lambda: 0.000000, opt. gamma: 0.500000\n",
      "Current iteration=0, loss=0.6931471605599313\n",
      "Current iteration=100, loss=0.50675779764967\n",
      "Current iteration=200, loss=0.5004394146421128\n",
      "Current iteration=300, loss=0.4985154938221928\n"
     ]
    },
    {
     "data": {
      "image/png": "[encoded data removed]",
      "text/plain": [
       "<matplotlib.figure.Figure at 0x239090be160>"
      ]
     },
     "metadata": {},
     "output_type": "display_data"
    },
    {
     "name": "stdout",
     "output_type": "stream",
     "text": [
      "Test score for optimised parameters: 0.748760\n"
     ]
    },
    {
     "data": {
      "text/plain": [
       "(0.0, 0.5, 0.74876)"
      ]
     },
     "execution_count": 7,
     "metadata": {},
     "output_type": "execute_result"
    }
   ],
   "source": [
    "lambdas=np.array([0, 0.05])\n",
    "gammas=np.array([0.1, 0.5])\n",
    "w_ini=np.zeros((x_train.shape[1],1))\n",
    "crossval_grid(x_train, y_train, x_test, y_test, 4, lambdas, gammas, w_ini, 1000, 42, 50)"
   ]
  },
  {
   "cell_type": "code",
   "execution_count": 8,
   "metadata": {},
   "outputs": [],
   "source": [
    "#w_ini=np.zeros((tx.shape[1],1))\n",
    "#lambdas=np.logspace(-6,0, num=7)\n",
    "#lambdas=np.array([0, 0.001, 0.005, 0.01, 0.05, 0.1, 0.5])\n",
    "#lambda_opt, score=crossval_lambda(x_train, y_train, 4, lambdas, 1e-2, w_ini, 1000, 42)"
   ]
  },
  {
   "cell_type": "code",
   "execution_count": 9,
   "metadata": {},
   "outputs": [],
   "source": [
    "#print('lambda opt: %f' %lambda_opt)\n",
    "#gammas=np.logspace(-6, -2, num=5)\n",
    "#gammas=np.array([0.005, 0.01, 0.025, 0.05])\n",
    "#gamma_opt, score=crossval_gamma(x_train, y_train, 4, lambda_opt, gammas, w_ini, 1000, 42)"
   ]
  },
  {
   "cell_type": "code",
   "execution_count": 10,
   "metadata": {},
   "outputs": [],
   "source": [
    "# DO THE CROSSVALIDATION WITH RESPECT TO THE CLASSIFICATION ERROR"
   ]
  },
  {
   "cell_type": "code",
   "execution_count": 11,
   "metadata": {},
   "outputs": [],
   "source": [
    "#opt_weights,_=ml.reg_logistic_regression(y_train, x_train, lambda_opt, np.zeros((x_train.shape[1],1)), 2000, gamma_opt)\n"
   ]
  },
  {
   "cell_type": "code",
   "execution_count": 12,
   "metadata": {},
   "outputs": [],
   "source": [
    "#score=calculate_classification_accuracy(y_test, x_test, opt_weights)\n",
    "#print(score)"
   ]
  },
  {
   "cell_type": "code",
   "execution_count": 13,
   "metadata": {},
   "outputs": [],
   "source": [
    "x_der_train, x_der_test =x_train[:,0:13], x_test[:,0:13]\n",
    "x_raw_train, x_raw_test=x_train[:,14:], x_test[:, 14:]"
   ]
  },
  {
   "cell_type": "code",
   "execution_count": 14,
   "metadata": {},
   "outputs": [
    {
     "name": "stdout",
     "output_type": "stream",
     "text": [
      "lambda: 0.000000, opt. gamma: 0.100000\n",
      "Current iteration=0, loss=0.6931471605599454\n",
      "Current iteration=100, loss=0.5437303403986137\n",
      "Current iteration=200, loss=0.5373017058758612\n",
      "Current iteration=300, loss=0.5350505506634639\n",
      "Current iteration=400, loss=0.5336616406586427\n",
      "Current iteration=0, loss=0.6931471605599456\n",
      "Current iteration=100, loss=0.5423441991856518\n",
      "Current iteration=200, loss=0.5358636499495845\n",
      "Current iteration=300, loss=0.5336088282211251\n",
      "Current iteration=400, loss=0.5322184677360098\n",
      "Current iteration=0, loss=0.6931471605599456\n",
      "Current iteration=100, loss=0.5414954089858012\n",
      "Current iteration=200, loss=0.5349905174025018\n",
      "Current iteration=300, loss=0.5327184281431077\n",
      "Current iteration=400, loss=0.5313158378107228\n",
      "Current iteration=0, loss=0.6931471605599455\n",
      "Current iteration=100, loss=0.5401750469049619\n",
      "Current iteration=200, loss=0.5336099786858417\n",
      "Current iteration=300, loss=0.5314000174329592\n",
      "Current iteration=400, loss=0.5300606484711798\n",
      "lambda: 0.000000, gamma: 0.100000, training score: 0.725852, test score: 0.725665\n",
      "lambda: 0.000000, opt. gamma: 0.500000\n",
      "Current iteration=0, loss=0.6931471605599454\n",
      "Current iteration=100, loss=0.5326674708540582\n",
      "Current iteration=200, loss=0.5303743521043088\n",
      "Current iteration=0, loss=0.6931471605599456\n",
      "Current iteration=100, loss=0.5312213826164006\n",
      "Current iteration=200, loss=0.5289061738794829\n",
      "Current iteration=0, loss=0.6931471605599456\n",
      "Current iteration=100, loss=0.530309259156838\n",
      "Current iteration=200, loss=0.5279647956548037\n",
      "Current iteration=0, loss=0.6931471605599455\n",
      "Current iteration=100, loss=0.5291064809965402\n",
      "Current iteration=200, loss=0.5269103682700575\n",
      "lambda: 0.000000, gamma: 0.500000, training score: 0.729328, test score: 0.729220\n",
      "lambda: 0.050000, opt. gamma: 0.100000\n",
      "Current iteration=0, loss=0.6931471605599454\n",
      "Current iteration=100, loss=0.5852111136904866\n",
      "Current iteration=0, loss=0.6931471605599456\n",
      "Current iteration=100, loss=0.5841535814000964\n",
      "Current iteration=0, loss=0.6931471605599456\n",
      "Current iteration=100, loss=0.5835308563360695\n",
      "Current iteration=0, loss=0.6931471605599455\n",
      "Current iteration=100, loss=0.5827642670671673\n",
      "lambda: 0.050000, gamma: 0.100000, training score: 0.708592, test score: 0.708680\n",
      "lambda: 0.050000, opt. gamma: 0.500000\n",
      "Current iteration=0, loss=0.6931471605599454\n",
      "Current iteration=0, loss=0.6931471605599456\n",
      "Current iteration=0, loss=0.6931471605599456\n",
      "Current iteration=0, loss=0.6931471605599455\n",
      "lambda: 0.050000, gamma: 0.500000, training score: 0.710148, test score: 0.710205\n",
      "Crossvalidation best score: 0.729220, opt. lambda: 0.000000, opt. gamma: 0.500000\n",
      "Current iteration=0, loss=0.6931471605599313\n",
      "Current iteration=100, loss=0.5308406009045322\n",
      "Current iteration=200, loss=0.5285540533604485\n"
     ]
    },
    {
     "data": {
      "image/png": "[encoded data removed]",
      "text/plain": [
       "<matplotlib.figure.Figure at 0x2392780ea90>"
      ]
     },
     "metadata": {},
     "output_type": "display_data"
    },
    {
     "name": "stdout",
     "output_type": "stream",
     "text": [
      "Test score for optimised parameters: 0.728980\n"
     ]
    },
    {
     "data": {
      "text/plain": [
       "(0.0, 0.5, 0.72898)"
      ]
     },
     "execution_count": 14,
     "metadata": {},
     "output_type": "execute_result"
    }
   ],
   "source": [
    "lambdas=np.array([0, 0.05])\n",
    "gammas=np.array([0.1, 0.5])\n",
    "w_ini=np.zeros((x_der_train.shape[1],1))\n",
    "crossval_grid(x_der_train, y_train, x_der_test, y_test, 4, lambdas, gammas, w_ini, 1000, 42, 50)"
   ]
  },
  {
   "cell_type": "code",
   "execution_count": 15,
   "metadata": {},
   "outputs": [
    {
     "name": "stdout",
     "output_type": "stream",
     "text": [
      "lambda: 0.000000, opt. gamma: 0.100000\n",
      "Current iteration=0, loss=0.6931471605599454\n",
      "Current iteration=100, loss=0.6532634649230142\n",
      "Current iteration=200, loss=0.6507559045067381\n",
      "Current iteration=0, loss=0.6931471605599456\n",
      "Current iteration=100, loss=0.6525087568622007\n",
      "Current iteration=200, loss=0.6500155367900313\n",
      "Current iteration=0, loss=0.6931471605599456\n",
      "Current iteration=100, loss=0.6536589794414303\n",
      "Current iteration=200, loss=0.65122835756426\n",
      "Current iteration=0, loss=0.6931471605599455\n",
      "Current iteration=100, loss=0.6530468834650626\n",
      "Current iteration=200, loss=0.6505877603748084\n",
      "lambda: 0.000000, gamma: 0.100000, training score: 0.660497, test score: 0.660330\n",
      "lambda: 0.000000, opt. gamma: 0.500000\n",
      "Current iteration=0, loss=0.6931471605599454\n",
      "Current iteration=100, loss=0.6481345458345077\n",
      "Current iteration=200, loss=0.646234720917889\n",
      "Current iteration=0, loss=0.6931471605599456\n",
      "Current iteration=100, loss=0.6474686604390147\n",
      "Current iteration=200, loss=0.6456132867887674\n",
      "Current iteration=0, loss=0.6931471605599456\n",
      "Current iteration=100, loss=0.6486316713233135\n",
      "Current iteration=200, loss=0.6467296241085994\n",
      "Current iteration=0, loss=0.6931471605599455\n",
      "Current iteration=100, loss=0.64796384956747\n",
      "Current iteration=200, loss=0.64604318405829\n",
      "lambda: 0.000000, gamma: 0.500000, training score: 0.668957, test score: 0.668785\n",
      "lambda: 0.050000, opt. gamma: 0.100000\n",
      "Current iteration=0, loss=0.6931471605599454\n",
      "Current iteration=0, loss=0.6931471605599456\n",
      "Current iteration=0, loss=0.6931471605599456\n",
      "Current iteration=0, loss=0.6931471605599455\n",
      "lambda: 0.050000, gamma: 0.100000, training score: 0.632568, test score: 0.632660\n",
      "lambda: 0.050000, opt. gamma: 0.500000\n",
      "Current iteration=0, loss=0.6931471605599454\n",
      "Current iteration=0, loss=0.6931471605599456\n",
      "Current iteration=0, loss=0.6931471605599456\n",
      "Current iteration=0, loss=0.6931471605599455\n",
      "lambda: 0.050000, gamma: 0.500000, training score: 0.635573, test score: 0.635650\n",
      "Crossvalidation best score: 0.668785, opt. lambda: 0.000000, opt. gamma: 0.500000\n",
      "Current iteration=0, loss=0.6931471605599313\n",
      "Current iteration=100, loss=0.6480622972329034\n",
      "Current iteration=200, loss=0.6461684623843327\n"
     ]
    },
    {
     "data": {
      "image/png": "[encoded data removed]",
      "text/plain": [
       "<matplotlib.figure.Figure at 0x23930b3b1d0>"
      ]
     },
     "metadata": {},
     "output_type": "display_data"
    },
    {
     "name": "stdout",
     "output_type": "stream",
     "text": [
      "Test score for optimised parameters: 0.666200\n"
     ]
    },
    {
     "data": {
      "text/plain": [
       "(0.0, 0.5, 0.6662)"
      ]
     },
     "execution_count": 15,
     "metadata": {},
     "output_type": "execute_result"
    }
   ],
   "source": [
    "lambdas=np.array([0, 0.05])\n",
    "gammas=np.array([0.1, 0.5])\n",
    "w_ini=np.zeros((x_raw_train.shape[1],1))\n",
    "crossval_grid(x_raw_train, y_train, x_raw_test, y_test, 4, lambdas, gammas, w_ini, 1000, 42, 50)"
   ]
  },
  {
   "cell_type": "code",
   "execution_count": 16,
   "metadata": {},
   "outputs": [
    {
     "name": "stdout",
     "output_type": "stream",
     "text": [
      "Number of samples when at leas one feature has value -999: 181886\n",
      "Percentage of total data:  0.727544\n"
     ]
    }
   ],
   "source": [
    "#RESOLVING 999s\n",
    "y, X, ids=proj1_helpers.load_csv_data('train.csv')\n",
    "y=np.expand_dims(y, axis=1)\n",
    "y[y==-1]=0\n",
    "tx_cleaned=unatools.resolve999values(X, 0, 0)\n",
    "\n",
    "tx_cleaned,_,__=ml.standardise(tx_cleaned)\n",
    "tx_cleaned=ml.augment_data(np.array(tx_cleaned))\n",
    "x_cl_train, y_cl_train, x_cl_test, y_cl_test=ml.split_data(tx_cleaned, y, 0.8, seed=42)\n",
    "x_clder_train, x_clder_test=x_cl_train[:,0:13], x_cl_test[:, 0:13]\n",
    "x_clraw_train, x_clraw_test=x_cl_train[:,14:], x_cl_test[:, 14:]"
   ]
  },
  {
   "cell_type": "code",
   "execution_count": 17,
   "metadata": {},
   "outputs": [
    {
     "name": "stdout",
     "output_type": "stream",
     "text": [
      "lambda: 0.000000, opt. gamma: 0.100000\n",
      "Current iteration=0, loss=0.6931471605599454\n",
      "Current iteration=100, loss=0.5259258110593067\n",
      "Current iteration=200, loss=0.5161892231565685\n",
      "Current iteration=300, loss=0.5119018425763955\n",
      "Current iteration=400, loss=0.5092451817434136\n",
      "Current iteration=500, loss=0.5074260711643919\n",
      "Current iteration=600, loss=0.5061153035076529\n",
      "Current iteration=0, loss=0.6931471605599456\n",
      "Current iteration=100, loss=0.5244017559357441\n",
      "Current iteration=200, loss=0.5145503934835639\n",
      "Current iteration=300, loss=0.5102133183810604\n",
      "Current iteration=400, loss=0.5075290475933995\n",
      "Current iteration=500, loss=0.5057023807616174\n",
      "Current iteration=600, loss=0.5043895189479868\n",
      "Current iteration=0, loss=0.6931471605599456\n",
      "Current iteration=100, loss=0.5240119668660428\n",
      "Current iteration=200, loss=0.5140839198519359\n",
      "Current iteration=300, loss=0.5097138054829824\n",
      "Current iteration=400, loss=0.5070118706910344\n",
      "Current iteration=500, loss=0.5051721186887571\n",
      "Current iteration=600, loss=0.5038492663313563\n",
      "Current iteration=0, loss=0.6931471605599455\n",
      "Current iteration=100, loss=0.5232548652661462\n",
      "Current iteration=200, loss=0.5133348455275936\n",
      "Current iteration=300, loss=0.5090354075489403\n",
      "Current iteration=400, loss=0.5063832647143105\n",
      "Current iteration=500, loss=0.5045733713886329\n",
      "Current iteration=600, loss=0.5032713597998859\n",
      "lambda: 0.000000, gamma: 0.100000, training score: 0.746803, test score: 0.746850\n",
      "lambda: 0.000000, opt. gamma: 0.500000\n",
      "Current iteration=0, loss=0.6931471605599454\n",
      "Current iteration=100, loss=0.5073927529502176\n",
      "Current iteration=200, loss=0.5033203574543613\n",
      "Current iteration=0, loss=0.6931471605599456\n",
      "Current iteration=100, loss=0.5056691597634541\n",
      "Current iteration=200, loss=0.5015803102347157\n",
      "Current iteration=0, loss=0.6931471605599456\n",
      "Current iteration=100, loss=0.5051384790538858\n",
      "Current iteration=200, loss=0.5010119166296747\n",
      "Current iteration=0, loss=0.6931471605599455\n",
      "Current iteration=100, loss=0.5045405888519974\n",
      "Current iteration=200, loss=0.5004775240096958\n",
      "lambda: 0.000000, gamma: 0.500000, training score: 0.748855, test score: 0.748685\n",
      "lambda: 0.050000, opt. gamma: 0.100000\n",
      "Current iteration=0, loss=0.6931471605599454\n",
      "Current iteration=100, loss=0.5711150582032637\n",
      "Current iteration=0, loss=0.6931471605599456\n",
      "Current iteration=100, loss=0.5699184816166236\n",
      "Current iteration=0, loss=0.6931471605599456\n",
      "Current iteration=100, loss=0.5697282476831987\n",
      "Current iteration=0, loss=0.6931471605599455\n",
      "Current iteration=100, loss=0.5693591717088035\n",
      "lambda: 0.050000, gamma: 0.100000, training score: 0.730080, test score: 0.729950\n",
      "lambda: 0.050000, opt. gamma: 0.500000\n",
      "Current iteration=0, loss=0.6931471605599454\n",
      "Current iteration=0, loss=0.6931471605599456\n",
      "Current iteration=0, loss=0.6931471605599456\n",
      "Current iteration=0, loss=0.6931471605599455\n",
      "lambda: 0.050000, gamma: 0.500000, training score: 0.731453, test score: 0.731280\n",
      "Crossvalidation best score: 0.748685, opt. lambda: 0.000000, opt. gamma: 0.500000\n",
      "Current iteration=0, loss=0.6931471605599313\n",
      "Current iteration=100, loss=0.5057119782479053\n",
      "Current iteration=200, loss=0.501626392662318\n"
     ]
    },
    {
     "data": {
      "image/png": "[encoded data removed]",
      "text/plain": [
       "<matplotlib.figure.Figure at 0x23906123470>"
      ]
     },
     "metadata": {},
     "output_type": "display_data"
    },
    {
     "name": "stdout",
     "output_type": "stream",
     "text": [
      "Test score for optimised parameters: 0.750040\n"
     ]
    },
    {
     "data": {
      "text/plain": [
       "(0.0, 0.5, 0.75004)"
      ]
     },
     "execution_count": 17,
     "metadata": {},
     "output_type": "execute_result"
    }
   ],
   "source": [
    "#ALL FEATURES WITH 999s REPLACED WITH FEATURE MEAN\n",
    "lambdas=np.array([0, 0.05])\n",
    "gammas=np.array([0.1, 0.5])\n",
    "w_ini=np.zeros((x_cl_train.shape[1],1))\n",
    "crossval_grid(x_cl_train, y_cl_train, x_cl_test, y_cl_test, 4, lambdas, gammas, w_ini, 1000, 42, 50)"
   ]
  },
  {
   "cell_type": "code",
   "execution_count": 18,
   "metadata": {},
   "outputs": [],
   "source": [
    "max_iter=1001"
   ]
  },
  {
   "cell_type": "code",
   "execution_count": 19,
   "metadata": {},
   "outputs": [
    {
     "name": "stdout",
     "output_type": "stream",
     "text": [
      "lambda: 0.000000, opt. gamma: 0.100000\n",
      "Current iteration=0, loss=0.6931471605599454\n",
      "Current iteration=100, loss=0.5374107447345279\n",
      "Current iteration=200, loss=0.532333925953335\n",
      "Current iteration=0, loss=0.6931471605599456\n",
      "Current iteration=100, loss=0.535897031328473\n",
      "Current iteration=200, loss=0.530728192844912\n",
      "Current iteration=0, loss=0.6931471605599456\n",
      "Current iteration=100, loss=0.5352969544712184\n",
      "Current iteration=200, loss=0.5300960029193942\n",
      "Current iteration=0, loss=0.6931471605599455\n",
      "Current iteration=100, loss=0.5345636346984732\n",
      "Current iteration=200, loss=0.529238984692883\n",
      "lambda: 0.000000, gamma: 0.100000, training score: 0.725255, test score: 0.725240\n",
      "lambda: 0.000000, opt. gamma: 0.500000\n",
      "Current iteration=0, loss=0.6931471605599454\n",
      "Current iteration=100, loss=0.5304254816673202\n",
      "Current iteration=0, loss=0.6931471605599456\n",
      "Current iteration=100, loss=0.5287731690057121\n",
      "Current iteration=0, loss=0.6931471605599456\n",
      "Current iteration=100, loss=0.528075226933317\n",
      "Current iteration=0, loss=0.6931471605599455\n",
      "Current iteration=100, loss=0.5272550803187996\n",
      "lambda: 0.000000, gamma: 0.500000, training score: 0.727463, test score: 0.727515\n",
      "lambda: 0.050000, opt. gamma: 0.100000\n",
      "Current iteration=0, loss=0.6931471605599454\n",
      "Current iteration=100, loss=0.5800582003487869\n",
      "Current iteration=0, loss=0.6931471605599456\n",
      "Current iteration=100, loss=0.5789364512666934\n",
      "Current iteration=0, loss=0.6931471605599456\n",
      "Current iteration=100, loss=0.5784859401925424\n",
      "Current iteration=0, loss=0.6931471605599455\n",
      "Current iteration=100, loss=0.5782625178877187\n",
      "lambda: 0.050000, gamma: 0.100000, training score: 0.714708, test score: 0.714715\n",
      "lambda: 0.050000, opt. gamma: 0.500000\n",
      "Current iteration=0, loss=0.6931471605599454\n",
      "Current iteration=0, loss=0.6931471605599456\n",
      "Current iteration=0, loss=0.6931471605599456\n",
      "Current iteration=0, loss=0.6931471605599455\n",
      "lambda: 0.050000, gamma: 0.500000, training score: 0.715443, test score: 0.715375\n",
      "Crossvalidation best score: 0.727515, opt. lambda: 0.000000, opt. gamma: 0.500000\n",
      "Current iteration=0, loss=0.6931471605599313\n",
      "Current iteration=100, loss=0.5286493114242288\n"
     ]
    },
    {
     "data": {
      "image/png": "[encoded data removed]",
      "text/plain": [
       "<matplotlib.figure.Figure at 0x23934413080>"
      ]
     },
     "metadata": {},
     "output_type": "display_data"
    },
    {
     "name": "stdout",
     "output_type": "stream",
     "text": [
      "Test score for optimised parameters: 0.726960\n"
     ]
    },
    {
     "data": {
      "text/plain": [
       "(0.0, 0.5, 0.72696)"
      ]
     },
     "execution_count": 19,
     "metadata": {},
     "output_type": "execute_result"
    }
   ],
   "source": [
    "#DERIVED FEATURES WITH 999s REPLACED WITH FEATURE MEAN\n",
    "lambdas=np.array([0, 0.05])\n",
    "gammas=np.array([0.1, 0.5])\n",
    "w_ini=np.zeros((x_clder_train.shape[1],1))\n",
    "crossval_grid(x_clder_train, y_cl_train, x_clder_test, y_cl_test, 4, lambdas, gammas, w_ini, max_iter, 42, 50)"
   ]
  },
  {
   "cell_type": "code",
   "execution_count": 20,
   "metadata": {},
   "outputs": [
    {
     "name": "stdout",
     "output_type": "stream",
     "text": [
      "lambda: 0.000000, opt. gamma: 0.100000\n",
      "Current iteration=0, loss=0.6931471605599454\n",
      "Current iteration=100, loss=0.6560252552951108\n",
      "Current iteration=0, loss=0.6931471605599456\n",
      "Current iteration=100, loss=0.655008978310564\n",
      "Current iteration=0, loss=0.6931471605599456\n",
      "Current iteration=100, loss=0.6563107894187328\n",
      "Current iteration=0, loss=0.6931471605599455\n",
      "Current iteration=100, loss=0.6556482059041631\n",
      "lambda: 0.000000, gamma: 0.100000, training score: 0.668172, test score: 0.668160\n",
      "lambda: 0.000000, opt. gamma: 0.500000\n",
      "Current iteration=0, loss=0.6931471605599454\n",
      "Current iteration=0, loss=0.6931471605599456\n",
      "Current iteration=0, loss=0.6931471605599456\n",
      "Current iteration=0, loss=0.6931471605599455\n",
      "lambda: 0.000000, gamma: 0.500000, training score: 0.671140, test score: 0.671125\n",
      "lambda: 0.050000, opt. gamma: 0.100000\n",
      "Current iteration=0, loss=0.6931471605599454\n",
      "Current iteration=0, loss=0.6931471605599456\n",
      "Current iteration=0, loss=0.6931471605599456\n",
      "Current iteration=0, loss=0.6931471605599455\n",
      "lambda: 0.050000, gamma: 0.100000, training score: 0.657807, test score: 0.657845\n",
      "lambda: 0.050000, opt. gamma: 0.500000\n",
      "Current iteration=0, loss=0.6931471605599454\n",
      "Current iteration=0, loss=0.6931471605599456\n",
      "Current iteration=0, loss=0.6931471605599456\n",
      "Current iteration=0, loss=0.6931471605599455\n",
      "lambda: 0.050000, gamma: 0.500000, training score: 0.660018, test score: 0.659905\n",
      "Crossvalidation best score: 0.671125, opt. lambda: 0.000000, opt. gamma: 0.500000\n",
      "Current iteration=0, loss=0.6931471605599313\n"
     ]
    },
    {
     "data": {
      "image/png": "[encoded data removed]",
      "text/plain": [
       "<matplotlib.figure.Figure at 0x2393440fc88>"
      ]
     },
     "metadata": {},
     "output_type": "display_data"
    },
    {
     "name": "stdout",
     "output_type": "stream",
     "text": [
      "Test score for optimised parameters: 0.666800\n"
     ]
    },
    {
     "data": {
      "text/plain": [
       "(0.0, 0.5, 0.6668)"
      ]
     },
     "execution_count": 20,
     "metadata": {},
     "output_type": "execute_result"
    }
   ],
   "source": [
    "#RAW FEATURES WITH 999s REPLACED WITH FEATURE MEAN\n",
    "lambdas=np.array([0, 0.05])\n",
    "gammas=np.array([0.1, 0.5])\n",
    "w_ini=np.zeros((x_clraw_train.shape[1],1))\n",
    "crossval_grid(x_clraw_train, y_cl_train, x_clraw_test, y_cl_test, 4, lambdas, gammas, w_ini, max_iter, 42, 50)"
   ]
  },
  {
   "cell_type": "code",
   "execution_count": 21,
   "metadata": {},
   "outputs": [
    {
     "name": "stdout",
     "output_type": "stream",
     "text": [
      "Number of samples when at leas one feature has value -999: 181886\n",
      "Percentage of total data:  0.727544\n"
     ]
    }
   ],
   "source": [
    "# RESOLVING 999s AND REMOVING OUTLIERS\n",
    "y, X, ids=proj1_helpers.load_csv_data('train.csv')\n",
    "y=np.expand_dims(y, axis=1)\n",
    "y[y==-1]=0\n",
    "tx_cleaned=unatools.resolve999values(X, 0, 0)\n",
    "tx_cleaned=unatools.removeOutliers(tx_cleaned, 95)\n",
    "\n",
    "tx_cleaned,_,__=ml.standardise(tx_cleaned)\n",
    "tx_cleaned=ml.augment_data(np.array(x))\n",
    "x_cl_train, y_cl_train, x_cl_test, y_cl_test=ml.split_data(tx_cleaned, y, 0.8, seed=42)"
   ]
  },
  {
   "cell_type": "code",
   "execution_count": 22,
   "metadata": {},
   "outputs": [
    {
     "name": "stdout",
     "output_type": "stream",
     "text": [
      "lambda: 0.000000, opt. gamma: 0.100000\n",
      "Current iteration=0, loss=0.6931471605599454\n",
      "Current iteration=100, loss=0.5327855557850758\n",
      "Current iteration=200, loss=0.5208514935586713\n",
      "Current iteration=300, loss=0.5149315251221098\n",
      "Current iteration=400, loss=0.511005906437574\n",
      "Current iteration=500, loss=0.5082156913605026\n",
      "Current iteration=600, loss=0.5061656769478793\n",
      "Current iteration=700, loss=0.5046245219629704\n",
      "Current iteration=800, loss=0.5034450472049325\n",
      "Current iteration=0, loss=0.6931471605599456\n",
      "Current iteration=100, loss=0.5314263731990185\n",
      "Current iteration=200, loss=0.5194832312923232\n",
      "Current iteration=300, loss=0.5135738810494963\n",
      "Current iteration=400, loss=0.5096809022339907\n",
      "Current iteration=500, loss=0.5069195866949966\n",
      "Current iteration=600, loss=0.5048835550957849\n",
      "Current iteration=700, loss=0.5033482137951738\n",
      "Current iteration=800, loss=0.5021704758758424\n",
      "Current iteration=0, loss=0.6931471605599456\n",
      "Current iteration=100, loss=0.530858902327154\n",
      "Current iteration=200, loss=0.5188735814728163\n",
      "Current iteration=300, loss=0.5129562301289902\n",
      "Current iteration=400, loss=0.50905625141696\n",
      "Current iteration=500, loss=0.5062898038424989\n",
      "Current iteration=600, loss=0.5042482033112697\n",
      "Current iteration=700, loss=0.5027069195891659\n",
      "Current iteration=800, loss=0.5015231047983613\n",
      "Current iteration=0, loss=0.6931471605599455\n",
      "Current iteration=100, loss=0.52973073400783\n",
      "Current iteration=200, loss=0.517875318727244\n",
      "Current iteration=300, loss=0.5121337950041699\n",
      "Current iteration=400, loss=0.5083669260984667\n",
      "Current iteration=500, loss=0.5057011904258197\n",
      "Current iteration=600, loss=0.5037348151624639\n",
      "Current iteration=700, loss=0.5022506542212131\n",
      "Current iteration=800, loss=0.5011113314670379\n",
      "lambda: 0.000000, gamma: 0.100000, training score: 0.748127, test score: 0.747660\n",
      "lambda: 0.000000, opt. gamma: 0.500000\n",
      "Current iteration=0, loss=0.6931471605599454\n",
      "Current iteration=100, loss=0.5081691938818483\n",
      "Current iteration=200, loss=0.5017898136611867\n",
      "Current iteration=300, loss=0.4998616111676195\n",
      "Current iteration=0, loss=0.6931471605599456\n",
      "Current iteration=100, loss=0.5068738629949252\n",
      "Current iteration=200, loss=0.5005139030626897\n",
      "Current iteration=300, loss=0.4985775286704941\n",
      "Current iteration=0, loss=0.6931471605599456\n",
      "Current iteration=100, loss=0.50624425586926\n",
      "Current iteration=200, loss=0.49985455086413316\n",
      "Current iteration=300, loss=0.49789309311872754\n",
      "Current iteration=0, loss=0.6931471605599455\n",
      "Current iteration=100, loss=0.5056571776477095\n",
      "Current iteration=200, loss=0.4995078903031043\n",
      "Current iteration=300, loss=0.49763413703432363\n",
      "lambda: 0.000000, gamma: 0.500000, training score: 0.749412, test score: 0.749295\n",
      "lambda: 0.050000, opt. gamma: 0.100000\n",
      "Current iteration=0, loss=0.6931471605599454\n",
      "Current iteration=100, loss=0.5782180994436733\n",
      "Current iteration=0, loss=0.6931471605599456\n",
      "Current iteration=100, loss=0.5771357127465131\n",
      "Current iteration=0, loss=0.6931471605599456\n",
      "Current iteration=100, loss=0.5767861962370697\n",
      "Current iteration=0, loss=0.6931471605599455\n",
      "Current iteration=100, loss=0.5760339910429839\n",
      "lambda: 0.050000, gamma: 0.100000, training score: 0.725548, test score: 0.725545\n",
      "lambda: 0.050000, opt. gamma: 0.500000\n",
      "Current iteration=0, loss=0.6931471605599454\n",
      "Current iteration=0, loss=0.6931471605599456\n",
      "Current iteration=0, loss=0.6931471605599456\n",
      "Current iteration=0, loss=0.6931471605599455\n",
      "lambda: 0.050000, gamma: 0.500000, training score: 0.727345, test score: 0.727150\n",
      "Crossvalidation best score: 0.749295, opt. lambda: 0.000000, opt. gamma: 0.500000\n",
      "Current iteration=0, loss=0.6931471605599313\n",
      "Current iteration=100, loss=0.50675779764967\n",
      "Current iteration=200, loss=0.5004394146421128\n",
      "Current iteration=300, loss=0.4985154938221928\n"
     ]
    },
    {
     "data": {
      "image/png": "[encoded data removed]",
      "text/plain": [
       "<matplotlib.figure.Figure at 0x23929863be0>"
      ]
     },
     "metadata": {},
     "output_type": "display_data"
    },
    {
     "name": "stdout",
     "output_type": "stream",
     "text": [
      "Test score for optimised parameters: 0.748760\n"
     ]
    },
    {
     "data": {
      "text/plain": [
       "(0.0, 0.5, 0.74876)"
      ]
     },
     "execution_count": 22,
     "metadata": {},
     "output_type": "execute_result"
    }
   ],
   "source": [
    "#ALL FEATURES WITH 999s REPLACED WITH FEATURE MEAN AND OUTLIERS REMOVED\n",
    "lambdas=np.array([0, 0.05])\n",
    "gammas=np.array([0.1, 0.5])\n",
    "w_ini=np.zeros((x_cl_train.shape[1],1))\n",
    "crossval_grid(x_cl_train, y_cl_train, x_cl_test, y_cl_test, 4, lambdas, gammas, w_ini, max_iter, 42, 50)"
   ]
  },
  {
   "cell_type": "code",
   "execution_count": 23,
   "metadata": {},
   "outputs": [
    {
     "name": "stdout",
     "output_type": "stream",
     "text": [
      "Number of samples when at leas one feature has value -999: 111904\n",
      "Percentage of total data:  0.447616\n"
     ]
    }
   ],
   "source": [
    "#RESOLVING 999s, REMOVING OUTLIERS AND REMOVING FEATURES WITH MORE THAN 50% OF MISSING VALUES\n",
    "y, X, ids=proj1_helpers.load_csv_data('train.csv')\n",
    "y=np.expand_dims(y, axis=1)\n",
    "y[y==-1]=0\n",
    "toremove=np.array([28, 27, 26, 12, 6, 5, 4])\n",
    "X_cleaned=np.delete(X, toremove, axis=1)\n",
    "tx_cleaned=unatools.resolve999values(X_cleaned, 0, 0)\n",
    "\n",
    "tx_cleaned,_,__=ml.standardise(tx_cleaned)\n",
    "tx_cleaned=ml.augment_data(np.array(tx_cleaned))\n",
    "x_cl_train, y_cl_train, x_cl_test, y_cl_test=ml.split_data(tx_cleaned, y, 0.8, seed=42)\n",
    "x_clder_train, x_clder_test=x_cl_train[:,0:13], x_cl_test[:, 0:13]\n",
    "x_clraw_train, x_clraw_test=x_cl_train[:,14:], x_cl_test[:, 14:]"
   ]
  },
  {
   "cell_type": "code",
   "execution_count": 24,
   "metadata": {},
   "outputs": [
    {
     "name": "stdout",
     "output_type": "stream",
     "text": [
      "lambda: 0.000000, opt. gamma: 0.100000\n",
      "Current iteration=0, loss=0.6931471605599454\n",
      "Current iteration=100, loss=0.5413041611738919\n",
      "Current iteration=200, loss=0.5317069158909409\n",
      "Current iteration=300, loss=0.5275818974255869\n",
      "Current iteration=400, loss=0.5250530691226641\n",
      "Current iteration=500, loss=0.5233341879756259\n",
      "Current iteration=600, loss=0.5221010366405844\n",
      "Current iteration=0, loss=0.6931471605599456\n",
      "Current iteration=100, loss=0.5396995005603111\n",
      "Current iteration=200, loss=0.5300219631840467\n",
      "Current iteration=300, loss=0.5258658389840956\n",
      "Current iteration=400, loss=0.5233195448318478\n",
      "Current iteration=500, loss=0.5215900367239487\n",
      "Current iteration=600, loss=0.520350185466219\n",
      "Current iteration=0, loss=0.6931471605599456\n",
      "Current iteration=100, loss=0.5390937105465328\n",
      "Current iteration=200, loss=0.5293581408020603\n",
      "Current iteration=300, loss=0.5251965875768413\n",
      "Current iteration=400, loss=0.5226504495922375\n",
      "Current iteration=500, loss=0.5209190146485818\n",
      "Current iteration=600, loss=0.5196755844170812\n",
      "Current iteration=0, loss=0.6931471605599455\n",
      "Current iteration=100, loss=0.5379742187727616\n",
      "Current iteration=200, loss=0.5282630674514264\n",
      "Current iteration=300, loss=0.5241628775588344\n",
      "Current iteration=400, loss=0.5216579024672033\n",
      "Current iteration=500, loss=0.5199521246740426\n",
      "Current iteration=600, loss=0.5187246887101301\n",
      "lambda: 0.000000, gamma: 0.100000, training score: 0.736157, test score: 0.735900\n",
      "lambda: 0.000000, opt. gamma: 0.500000\n",
      "Current iteration=0, loss=0.6931471605599454\n",
      "Current iteration=100, loss=0.5233030221754501\n",
      "Current iteration=200, loss=0.5194850616886959\n",
      "Current iteration=0, loss=0.6931471605599456\n",
      "Current iteration=100, loss=0.5215587287248036\n",
      "Current iteration=200, loss=0.5177224875939749\n",
      "Current iteration=0, loss=0.6931471605599456\n",
      "Current iteration=100, loss=0.5208876134379399\n",
      "Current iteration=200, loss=0.5170356106101914\n",
      "Current iteration=0, loss=0.6931471605599455\n",
      "Current iteration=100, loss=0.5199214111554705\n",
      "Current iteration=200, loss=0.5161078450650332\n",
      "lambda: 0.000000, gamma: 0.500000, training score: 0.738033, test score: 0.738065\n",
      "lambda: 0.050000, opt. gamma: 0.100000\n",
      "Current iteration=0, loss=0.6931471605599454\n",
      "Current iteration=100, loss=0.5851633622462983\n",
      "Current iteration=0, loss=0.6931471605599456\n",
      "Current iteration=100, loss=0.5838925027707524\n",
      "Current iteration=0, loss=0.6931471605599456\n",
      "Current iteration=100, loss=0.5835384427943685\n",
      "Current iteration=0, loss=0.6931471605599455\n",
      "Current iteration=100, loss=0.5827959013734031\n",
      "lambda: 0.050000, gamma: 0.100000, training score: 0.718793, test score: 0.718710\n",
      "lambda: 0.050000, opt. gamma: 0.500000\n",
      "Current iteration=0, loss=0.6931471605599454\n",
      "Current iteration=0, loss=0.6931471605599456\n",
      "Current iteration=0, loss=0.6931471605599456\n",
      "Current iteration=0, loss=0.6931471605599455\n",
      "lambda: 0.050000, gamma: 0.500000, training score: 0.720307, test score: 0.720070\n",
      "Crossvalidation best score: 0.738065, opt. lambda: 0.000000, opt. gamma: 0.500000\n",
      "Current iteration=0, loss=0.6931471605599313\n",
      "Current iteration=100, loss=0.521435123089236\n",
      "Current iteration=200, loss=0.517605802726075\n"
     ]
    },
    {
     "data": {
      "image/png": "[encoded data removed]",
      "text/plain": [
       "<matplotlib.figure.Figure at 0x239277dbe10>"
      ]
     },
     "metadata": {},
     "output_type": "display_data"
    },
    {
     "name": "stdout",
     "output_type": "stream",
     "text": [
      "Test score for optimised parameters: 0.738340\n"
     ]
    },
    {
     "data": {
      "text/plain": [
       "(0.0, 0.5, 0.73834)"
      ]
     },
     "execution_count": 24,
     "metadata": {},
     "output_type": "execute_result"
    }
   ],
   "source": [
    "#ALL FEATURES WITH >50% of 999s REMOVED, OTHER -999s REPLACED WITH FEATURE MEAN AND OUTLIERS REMOVED\n",
    "lambdas=np.array([0, 0.05])\n",
    "gammas=np.array([0.1, 0.5])\n",
    "w_ini=np.zeros((x_cl_train.shape[1],1))\n",
    "crossval_grid(x_cl_train, y_cl_train, x_cl_test, y_cl_test, 4, lambdas, gammas, w_ini, max_iter, 42, 50)"
   ]
  },
  {
   "cell_type": "code",
   "execution_count": 25,
   "metadata": {},
   "outputs": [
    {
     "name": "stdout",
     "output_type": "stream",
     "text": [
      "Number of samples when at leas one feature has value -999: 38114\n",
      "Percentage of total data:  0.152456\n"
     ]
    }
   ],
   "source": [
    "#RESOLVING 999s, REMOVING OUTLIERS AND REMOVING FEATURES WITH MORE THAN 25% OF MISSING VALUES\n",
    "y, X, ids=proj1_helpers.load_csv_data('train.csv')\n",
    "y=np.expand_dims(y, axis=1)\n",
    "y[y==-1]=0\n",
    "toremove=np.array([28, 27, 26, 25, 24, 23, 12, 6, 5, 4])\n",
    "X_cleaned=np.delete(X, toremove, axis=1)\n",
    "tx_cleaned=unatools.resolve999values(X_cleaned, 0, 0)\n",
    "\n",
    "tx_cleaned,_,__=ml.standardise(tx_cleaned)\n",
    "tx_cleaned=ml.augment_data(np.array(tx_cleaned))\n",
    "x_cl_train, y_cl_train, x_cl_test, y_cl_test=ml.split_data(tx_cleaned, y, 0.8, seed=42)\n",
    "x_clder_train, x_clder_test=x_cl_train[:,0:13], x_cl_test[:, 0:13]\n",
    "x_clraw_train, x_clraw_test=x_cl_train[:,14:], x_cl_test[:, 14:]"
   ]
  },
  {
   "cell_type": "code",
   "execution_count": 26,
   "metadata": {},
   "outputs": [
    {
     "name": "stdout",
     "output_type": "stream",
     "text": [
      "lambda: 0.000000, opt. gamma: 0.100000\n",
      "Current iteration=0, loss=0.6931471605599454\n",
      "Current iteration=100, loss=0.5413129576878397\n",
      "Current iteration=200, loss=0.5318191290095968\n",
      "Current iteration=300, loss=0.5277480302597912\n",
      "Current iteration=400, loss=0.5252206202366461\n",
      "Current iteration=500, loss=0.5234797909833458\n",
      "Current iteration=600, loss=0.5222203586799523\n",
      "Current iteration=0, loss=0.6931471605599456\n",
      "Current iteration=100, loss=0.5396863146382925\n",
      "Current iteration=200, loss=0.53010487575437\n",
      "Current iteration=300, loss=0.5260025053264754\n",
      "Current iteration=400, loss=0.5234576244361329\n",
      "Current iteration=500, loss=0.521705464518595\n",
      "Current iteration=600, loss=0.5204381303742305\n",
      "Current iteration=0, loss=0.6931471605599456\n",
      "Current iteration=100, loss=0.5390979536529179\n",
      "Current iteration=200, loss=0.5294664726168244\n",
      "Current iteration=300, loss=0.5253588744706668\n",
      "Current iteration=400, loss=0.5228127579705059\n",
      "Current iteration=500, loss=0.5210573739014637\n",
      "Current iteration=600, loss=0.5197853799006069\n",
      "Current iteration=0, loss=0.6931471605599455\n",
      "Current iteration=100, loss=0.5379612000022287\n",
      "Current iteration=200, loss=0.5283425677306893\n",
      "Current iteration=300, loss=0.5242948833665377\n",
      "Current iteration=400, loss=0.5217926064439725\n",
      "Current iteration=500, loss=0.5200663155802852\n",
      "Current iteration=600, loss=0.5188135786801708\n",
      "lambda: 0.000000, gamma: 0.100000, training score: 0.736450, test score: 0.736410\n",
      "lambda: 0.000000, opt. gamma: 0.500000\n",
      "Current iteration=0, loss=0.6931471605599454\n",
      "Current iteration=100, loss=0.5234491026179914\n",
      "Current iteration=200, loss=0.5195390812458786\n",
      "Current iteration=0, loss=0.6931471605599456\n",
      "Current iteration=100, loss=0.5216746641774552\n",
      "Current iteration=200, loss=0.5177428894104645\n",
      "Current iteration=0, loss=0.6931471605599456\n",
      "Current iteration=100, loss=0.5210264584958431\n",
      "Current iteration=200, loss=0.5170743549402316\n",
      "Current iteration=0, loss=0.6931471605599455\n",
      "Current iteration=100, loss=0.5200361185943914\n",
      "Current iteration=200, loss=0.5161329901626494\n",
      "lambda: 0.000000, gamma: 0.500000, training score: 0.737847, test score: 0.737715\n",
      "lambda: 0.050000, opt. gamma: 0.100000\n",
      "Current iteration=0, loss=0.6931471605599454\n",
      "Current iteration=100, loss=0.585160096293138\n",
      "Current iteration=0, loss=0.6931471605599456\n",
      "Current iteration=100, loss=0.583886102700559\n",
      "Current iteration=0, loss=0.6931471605599456\n",
      "Current iteration=100, loss=0.5835353012043359\n",
      "Current iteration=0, loss=0.6931471605599455\n",
      "Current iteration=100, loss=0.58279014391402\n",
      "lambda: 0.050000, gamma: 0.100000, training score: 0.718842, test score: 0.718720\n",
      "lambda: 0.050000, opt. gamma: 0.500000\n",
      "Current iteration=0, loss=0.6931471605599454\n",
      "Current iteration=0, loss=0.6931471605599456\n",
      "Current iteration=0, loss=0.6931471605599456\n",
      "Current iteration=0, loss=0.6931471605599455\n",
      "lambda: 0.050000, gamma: 0.500000, training score: 0.720328, test score: 0.720190\n",
      "Crossvalidation best score: 0.737715, opt. lambda: 0.000000, opt. gamma: 0.500000\n",
      "Current iteration=0, loss=0.6931471605599313\n",
      "Current iteration=100, loss=0.5215627928570479\n",
      "Current iteration=200, loss=0.5176388677867934\n"
     ]
    },
    {
     "data": {
      "image/png": "[encoded data removed]",
      "text/plain": [
       "<matplotlib.figure.Figure at 0x23907b78e80>"
      ]
     },
     "metadata": {},
     "output_type": "display_data"
    },
    {
     "name": "stdout",
     "output_type": "stream",
     "text": [
      "Test score for optimised parameters: 0.738780\n"
     ]
    },
    {
     "data": {
      "text/plain": [
       "(0.0, 0.5, 0.73878)"
      ]
     },
     "execution_count": 26,
     "metadata": {},
     "output_type": "execute_result"
    }
   ],
   "source": [
    "#ALL FEATURES WITH >25% of 999s REMOVED, OTHER -999s REPLACED WITH FEATURE MEAN AND OUTLIERS REMOVED\n",
    "lambdas=np.array([0, 0.05])\n",
    "gammas=np.array([0.1, 0.5])\n",
    "w_ini=np.zeros((x_cl_train.shape[1],1))\n",
    "crossval_grid(x_cl_train, y_cl_train, x_cl_test, y_cl_test, 4, lambdas, gammas, w_ini, max_iter, 42, 50)"
   ]
  },
  {
   "cell_type": "code",
   "execution_count": 27,
   "metadata": {},
   "outputs": [
    {
     "name": "stdout",
     "output_type": "stream",
     "text": [
      "Number of samples when at leas one feature has value -999: 38114\n",
      "Percentage of total data:  0.152456\n"
     ]
    }
   ],
   "source": [
    "#RESOLVING 999s, REMOVING OUTLIERS AND REMOVING FEATURES WITH MORE THAN 25% OF MISSING VALUES AND APPLYING SKEWNESS TRANSFORM\n",
    "from tools_PT import skewness_correction\n",
    "y, X, ids=proj1_helpers.load_csv_data('train.csv')\n",
    "y=np.expand_dims(y, axis=1)\n",
    "y[y==-1]=0\n",
    "toremove=np.array([28, 27, 26, 25, 24, 23, 12, 6, 5, 4])\n",
    "X_cleaned=np.delete(X, toremove, axis=1)\n",
    "tx_cleaned=unatools.resolve999values(X_cleaned, 0, 0)\n",
    "tx_cleaned=skewness_correction(tx_cleaned)\n",
    "\n",
    "tx_cleaned,_,__=ml.standardise(tx_cleaned)\n",
    "tx_cleaned=ml.augment_data(np.array(tx_cleaned))\n",
    "x_cl_train, y_cl_train, x_cl_test, y_cl_test=ml.split_data(tx_cleaned, y, 0.8, seed=42)\n",
    "x_clder_train, x_clder_test=x_cl_train[:,0:13], x_cl_test[:, 0:13]\n",
    "x_clraw_train, x_clraw_test=x_cl_train[:,14:], x_cl_test[:, 14:]"
   ]
  },
  {
   "cell_type": "code",
   "execution_count": 28,
   "metadata": {},
   "outputs": [
    {
     "name": "stdout",
     "output_type": "stream",
     "text": [
      "lambda: 0.000000, opt. gamma: 0.100000\n",
      "Current iteration=0, loss=0.6931471605599454\n",
      "Current iteration=100, loss=0.5378443771630791\n",
      "Current iteration=200, loss=0.5338456904804866\n",
      "Current iteration=0, loss=0.6931471605599456\n",
      "Current iteration=100, loss=0.5362009119390669\n",
      "Current iteration=200, loss=0.5321701206285617\n",
      "Current iteration=0, loss=0.6931471605599456\n",
      "Current iteration=100, loss=0.5356293633054748\n",
      "Current iteration=200, loss=0.5315550208189327\n",
      "Current iteration=0, loss=0.6931471605599455\n",
      "Current iteration=100, loss=0.5338095918161018\n",
      "Current iteration=200, loss=0.5296197885297979\n",
      "lambda: 0.000000, gamma: 0.100000, training score: 0.723172, test score: 0.723230\n",
      "lambda: 0.000000, opt. gamma: 0.500000\n",
      "Current iteration=0, loss=0.6931471605599454\n",
      "Current iteration=100, loss=0.5310817511958115\n",
      "Current iteration=0, loss=0.6931471605599456\n",
      "Current iteration=100, loss=0.529470180697416\n",
      "Current iteration=0, loss=0.6931471605599456\n",
      "Current iteration=100, loss=0.5288089446875137\n",
      "Current iteration=0, loss=0.6931471605599455\n",
      "Current iteration=100, loss=0.5268377973107021\n",
      "lambda: 0.000000, gamma: 0.500000, training score: 0.724555, test score: 0.724480\n",
      "lambda: 0.050000, opt. gamma: 0.100000\n",
      "Current iteration=0, loss=0.6931471605599454\n",
      "Current iteration=0, loss=0.6931471605599456\n",
      "Current iteration=100, loss=0.5756513518866032\n",
      "Current iteration=0, loss=0.6931471605599456\n",
      "Current iteration=100, loss=0.5753441907997318\n",
      "Current iteration=0, loss=0.6931471605599455\n",
      "Current iteration=100, loss=0.5741160015175754\n",
      "lambda: 0.050000, gamma: 0.100000, training score: 0.721483, test score: 0.721345\n",
      "lambda: 0.050000, opt. gamma: 0.500000\n",
      "Current iteration=0, loss=0.6931471605599454\n",
      "Current iteration=0, loss=0.6931471605599456\n",
      "Current iteration=0, loss=0.6931471605599456\n",
      "Current iteration=0, loss=0.6931471605599455\n",
      "lambda: 0.050000, gamma: 0.500000, training score: 0.721957, test score: 0.721920\n",
      "Crossvalidation best score: 0.724480, opt. lambda: 0.000000, opt. gamma: 0.500000\n",
      "Current iteration=0, loss=0.6931471605599313\n",
      "Current iteration=100, loss=0.5290683538427687\n"
     ]
    },
    {
     "data": {
      "image/png": "[encoded data removed]",
      "text/plain": [
       "<matplotlib.figure.Figure at 0x23930b3bda0>"
      ]
     },
     "metadata": {},
     "output_type": "display_data"
    },
    {
     "name": "stdout",
     "output_type": "stream",
     "text": [
      "Test score for optimised parameters: 0.723060\n"
     ]
    },
    {
     "data": {
      "text/plain": [
       "(0.0, 0.5, 0.72306)"
      ]
     },
     "execution_count": 28,
     "metadata": {},
     "output_type": "execute_result"
    }
   ],
   "source": [
    "#ALL FEATURES WITH >25% of 999s REMOVED, OTHER -999s REPLACED WITH FEATURE MEAN AND OUTLIERS REMOVED AND SKEWNESS TRANSFORM\n",
    "lambdas=np.array([0, 0.05])\n",
    "gammas=np.array([0.1, 0.5])\n",
    "w_ini=np.zeros((x_cl_train.shape[1],1))\n",
    "crossval_grid(x_cl_train, y_cl_train, x_cl_test, y_cl_test, 4, lambdas, gammas, w_ini, max_iter, 42, 50)"
   ]
  },
  {
   "cell_type": "markdown",
   "metadata": {},
   "source": [
    "Correlations:\n",
    "    0 - 2 (linear)\n",
    "    4 - 5 (linear)\n",
    "    4 - 6 (nonlinear)\n",
    "    5 - 6 (nonlinear)\n",
    "    9 - 23 (linear)\n",
    "    9 - 29 (linear)\n",
    "    23 - 29 (linear)\n",
    "    \n",
    "To remove correlated features and keep max information we should remove 0, 4, 9, 23. BUT 4 and 23 are features with 25% or more -999s\n",
    "So compared to last step, we only need to remove 0 and 9\n",
    "    "
   ]
  },
  {
   "cell_type": "code",
   "execution_count": 29,
   "metadata": {},
   "outputs": [
    {
     "name": "stdout",
     "output_type": "stream",
     "text": [
      "Number of samples when at leas one feature has value -999: 0\n",
      "Percentage of total data:  0.0\n"
     ]
    }
   ],
   "source": [
    "#RESOLVING 999s, REMOVING OUTLIERS AND REMOVING FEATURES WITH MORE THAN 25% OF MISSING VALUES AND APPLYING SKEWNESS TRANSFORM AND REMOVING CORRELATED FEATURES\n",
    "from tools_PT import skewness_correction\n",
    "y, X, ids=proj1_helpers.load_csv_data('train.csv')\n",
    "y=np.expand_dims(y, axis=1)\n",
    "y[y==-1]=0\n",
    "toremove=np.array([28, 27, 26, 25, 24, 23, 12,9, 6, 5, 4,0])\n",
    "X_cleaned=np.delete(X, toremove, axis=1)\n",
    "tx_cleaned=unatools.resolve999values(X_cleaned, 0, 0)\n",
    "tx_cleaned=skewness_correction(tx_cleaned)\n",
    "\n",
    "tx_cleaned,_,__=ml.standardise(tx_cleaned)\n",
    "tx_cleaned=ml.augment_data(np.array(tx_cleaned))\n",
    "x_cl_train, y_cl_train, x_cl_test, y_cl_test=ml.split_data(tx_cleaned, y, 0.8, seed=42)\n",
    "x_clder_train, x_clder_test=x_cl_train[:,0:13], x_cl_test[:, 0:13]\n",
    "x_clraw_train, x_clraw_test=x_cl_train[:,14:], x_cl_test[:, 14:]"
   ]
  },
  {
   "cell_type": "code",
   "execution_count": 30,
   "metadata": {},
   "outputs": [
    {
     "name": "stdout",
     "output_type": "stream",
     "text": [
      "lambda: 0.000000, opt. gamma: 0.100000\n",
      "Current iteration=0, loss=0.6931471605599454\n",
      "Current iteration=100, loss=0.5388875201004125\n",
      "Current iteration=200, loss=0.5348800416585431\n",
      "Current iteration=0, loss=0.6931471605599456\n",
      "Current iteration=100, loss=0.5372928083124879\n",
      "Current iteration=200, loss=0.533255378989651\n",
      "Current iteration=0, loss=0.6931471605599456\n",
      "Current iteration=100, loss=0.5365959110974027\n",
      "Current iteration=200, loss=0.5325019656617641\n",
      "Current iteration=0, loss=0.6931471605599455\n",
      "Current iteration=100, loss=0.5348633524654572\n",
      "Current iteration=200, loss=0.53064699010839\n",
      "lambda: 0.000000, gamma: 0.100000, training score: 0.722430, test score: 0.722340\n",
      "lambda: 0.000000, opt. gamma: 0.500000\n",
      "Current iteration=0, loss=0.6931471605599454\n",
      "Current iteration=100, loss=0.5323487786442594\n",
      "Current iteration=0, loss=0.6931471605599456\n",
      "Current iteration=100, loss=0.5308117561451106\n",
      "Current iteration=0, loss=0.6931471605599456\n",
      "Current iteration=100, loss=0.5299698611523547\n",
      "Current iteration=0, loss=0.6931471605599455\n",
      "Current iteration=100, loss=0.5280874286951286\n",
      "lambda: 0.000000, gamma: 0.500000, training score: 0.723513, test score: 0.723320\n",
      "lambda: 0.050000, opt. gamma: 0.100000\n",
      "Current iteration=0, loss=0.6931471605599454\n",
      "Current iteration=100, loss=0.5786155489765689\n",
      "Current iteration=0, loss=0.6931471605599456\n",
      "Current iteration=100, loss=0.5774070768310129\n",
      "Current iteration=0, loss=0.6931471605599456\n",
      "Current iteration=100, loss=0.5769695668633947\n",
      "Current iteration=0, loss=0.6931471605599455\n",
      "Current iteration=100, loss=0.5758373373007039\n",
      "lambda: 0.050000, gamma: 0.100000, training score: 0.720578, test score: 0.720455\n",
      "lambda: 0.050000, opt. gamma: 0.500000\n",
      "Current iteration=0, loss=0.6931471605599454\n",
      "Current iteration=0, loss=0.6931471605599456\n",
      "Current iteration=0, loss=0.6931471605599456\n",
      "Current iteration=0, loss=0.6931471605599455\n",
      "lambda: 0.050000, gamma: 0.500000, training score: 0.721033, test score: 0.720905\n",
      "Crossvalidation best score: 0.723320, opt. lambda: 0.000000, opt. gamma: 0.500000\n",
      "Current iteration=0, loss=0.6931471605599313\n",
      "Current iteration=100, loss=0.530322280244665\n"
     ]
    },
    {
     "data": {
      "image/png": "[encoded data removed]",
      "text/plain": [
       "<matplotlib.figure.Figure at 0x23908f165f8>"
      ]
     },
     "metadata": {},
     "output_type": "display_data"
    },
    {
     "name": "stdout",
     "output_type": "stream",
     "text": [
      "Test score for optimised parameters: 0.722620\n"
     ]
    },
    {
     "data": {
      "text/plain": [
       "(0.0, 0.5, 0.72262)"
      ]
     },
     "execution_count": 30,
     "metadata": {},
     "output_type": "execute_result"
    }
   ],
   "source": [
    "#ALL FEATURES WITH >25% of 999s REMOVED, OTHER -999s REPLACED WITH FEATURE MEAN AND OUTLIERS REMOVED AND SKEWNESS TRANSFORM AND REMOVING CORRELATED FEATURES\n",
    "lambdas=np.array([0, 0.05])\n",
    "gammas=np.array([0.1, 0.5])\n",
    "w_ini=np.zeros((x_cl_train.shape[1],1))\n",
    "crossval_grid(x_cl_train, y_cl_train, x_cl_test, y_cl_test, 4, lambdas, gammas, w_ini, max_iter, 42, 50)"
   ]
  },
  {
   "cell_type": "code",
   "execution_count": null,
   "metadata": {},
   "outputs": [],
   "source": []
  },
  {
   "cell_type": "code",
   "execution_count": 5,
   "metadata": {},
   "outputs": [
    {
     "name": "stdout",
     "output_type": "stream",
     "text": [
      "Number of samples when at leas one feature has value -999: 0\n",
      "Percentage of total data:  0.0\n"
     ]
    },
    {
     "ename": "TypeError",
     "evalue": "build_poly_degree() takes 2 positional arguments but 4 were given",
     "output_type": "error",
     "traceback": [
      "\u001b[1;31m---------------------------------------------------------------------------\u001b[0m",
      "\u001b[1;31mTypeError\u001b[0m                                 Traceback (most recent call last)",
      "\u001b[1;32m<ipython-input-5-43f1a8f8c2c8>\u001b[0m in \u001b[0;36m<module>\u001b[1;34m()\u001b[0m\n\u001b[0;32m      9\u001b[0m \u001b[0mtx_cleaned\u001b[0m\u001b[1;33m=\u001b[0m\u001b[0munatools\u001b[0m\u001b[1;33m.\u001b[0m\u001b[0mresolve999values\u001b[0m\u001b[1;33m(\u001b[0m\u001b[0mX_cleaned\u001b[0m\u001b[1;33m,\u001b[0m \u001b[1;36m0\u001b[0m\u001b[1;33m,\u001b[0m \u001b[1;36m0\u001b[0m\u001b[1;33m)\u001b[0m\u001b[1;33m\u001b[0m\u001b[0m\n\u001b[0;32m     10\u001b[0m \u001b[0mtx_cleaned\u001b[0m\u001b[1;33m=\u001b[0m\u001b[0mskewness_correction\u001b[0m\u001b[1;33m(\u001b[0m\u001b[0mtx_cleaned\u001b[0m\u001b[1;33m)\u001b[0m\u001b[1;33m\u001b[0m\u001b[0m\n\u001b[1;32m---> 11\u001b[1;33m \u001b[0mtest\u001b[0m\u001b[1;33m=\u001b[0m\u001b[0munatools\u001b[0m\u001b[1;33m.\u001b[0m\u001b[0mbuild_poly_degree\u001b[0m\u001b[1;33m(\u001b[0m\u001b[0mtx_cleaned\u001b[0m\u001b[1;33m,\u001b[0m \u001b[1;36m1\u001b[0m\u001b[1;33m,\u001b[0m\u001b[1;36m1\u001b[0m\u001b[1;33m,\u001b[0m\u001b[1;36m2\u001b[0m\u001b[1;33m)\u001b[0m\u001b[1;33m\u001b[0m\u001b[0m\n\u001b[0m",
      "\u001b[1;31mTypeError\u001b[0m: build_poly_degree() takes 2 positional arguments but 4 were given"
     ]
    }
   ],
   "source": [
    "from tools_PT import skewness_correction\n",
    "\n",
    "y, X, ids=proj1_helpers.load_csv_data('train.csv')\n",
    "y=np.expand_dims(y, axis=1)\n",
    "y, X, ids=proj1_helpers.load_csv_data('train.csv')\n",
    "y=np.expand_dims(y, axis=1)\n",
    "toremove=np.array([28, 27, 26, 25, 24, 23, 12,9, 6, 5, 4,0])\n",
    "X_cleaned=np.delete(X, toremove, axis=1)\n",
    "tx_cleaned=unatools.resolve999values(X_cleaned, 0, 0)\n",
    "tx_cleaned=skewness_correction(tx_cleaned)\n",
    "test=unatools.build_poly(tx_cleaned, 1,1,2)"
   ]
  },
  {
   "cell_type": "code",
   "execution_count": null,
   "metadata": {},
   "outputs": [],
   "source": [
    "test.shape"
   ]
  },
  {
   "cell_type": "code",
   "execution_count": 7,
   "metadata": {},
   "outputs": [],
   "source": [
    "y[y==-1]=0"
   ]
  },
  {
   "cell_type": "code",
   "execution_count": 8,
   "metadata": {},
   "outputs": [
    {
     "data": {
      "text/plain": [
       "array([[1.],\n",
       "       [0.],\n",
       "       [0.],\n",
       "       ...,\n",
       "       [1.],\n",
       "       [0.],\n",
       "       [0.]])"
      ]
     },
     "execution_count": 8,
     "metadata": {},
     "output_type": "execute_result"
    }
   ],
   "source": [
    "y"
   ]
  },
  {
   "cell_type": "code",
   "execution_count": null,
   "metadata": {},
   "outputs": [],
   "source": []
  }
 ],
 "metadata": {
  "kernelspec": {
   "display_name": "Python 3",
   "language": "python",
   "name": "python3"
  },
  "language_info": {
   "codemirror_mode": {
    "name": "ipython",
    "version": 3
   },
   "file_extension": ".py",
   "mimetype": "text/x-python",
   "name": "python",
   "nbconvert_exporter": "python",
   "pygments_lexer": "ipython3",
   "version": "3.6.4"
  }
 },
 "nbformat": 4,
 "nbformat_minor": 2
}
