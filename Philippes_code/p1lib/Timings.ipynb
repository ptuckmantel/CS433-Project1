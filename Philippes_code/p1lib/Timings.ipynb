{
 "cells": [
  {
   "cell_type": "code",
   "execution_count": 1,
   "metadata": {},
   "outputs": [],
   "source": [
    "import p1lib as ml\n",
    "import timeit\n",
    "import numpy as np"
   ]
  },
  {
   "cell_type": "code",
   "execution_count": 2,
   "metadata": {},
   "outputs": [],
   "source": [
    "import inspect\n",
    "\n",
    "all_functions = inspect.getmembers(ml, inspect.isfunction)"
   ]
  },
  {
   "cell_type": "code",
   "execution_count": 3,
   "metadata": {},
   "outputs": [
    {
     "name": "stdout",
     "output_type": "stream",
     "text": [
      "augment_data: 0.026107026535108727\n",
      "batch_iter: 0.020431195516811957\n",
      "build_k_indices: 0.018576457788786548\n",
      "build_poly: 0.017232767232767232\n",
      "compute_e: 0.019396271536682497\n",
      "compute_gradient_logistic: 0.01769206820576684\n",
      "compute_gradient_mae: 0.017345668030599545\n",
      "compute_gradient_mse: 0.01706726492685398\n",
      "compute_loss_logistic: 0.01575821438835137\n",
      "compute_loss_mae: 0.016338541595390915\n",
      "compute_loss_mse: 0.01892071969126763\n",
      "compute_rmse: 0.016484799447128218\n",
      "compute_stoch_gradient: 0.029319567418882475\n",
      "cross_validation: 0.016280380578325815\n",
      "get_best_parameters: 0.02352570374830648\n",
      "gradient_descent: 0.016038328110245914\n",
      "gradient_descent_dynamic: 0.0167726109506931\n",
      "gridsearch: 0.01589035964035962\n",
      "learning_by_gradient_descent: 0.015883517167763705\n",
      "learning_by_penalized_gradient: 0.016185868925594926\n",
      "least_squares: 0.016045598237379055\n",
      "least_squares_GD: 0.015961777948079292\n",
      "least_squares_SGD: 0.015994707347447068\n",
      "logistic_regression: 0.015657715572099107\n",
      "penalized_logistic_regression: 0.016006254019952648\n",
      "prediction: 0.016149518289929277\n",
      "reg_logistic_regression: 0.01575222722482994\n",
      "ridge_regression: 0.02625969920490462\n",
      "sigmoid: 0.016411242866722353\n",
      "split_data: 0.01796662241867719\n",
      "standardise: 0.016522005391868433\n",
      "stochastic_gradient_descent: 0.016969332037825136\n",
      "stochastic_gradient_descent_dynamic: 0.016081521218507477\n"
     ]
    }
   ],
   "source": [
    "for f in all_functions:\n",
    "    print(str(f[0])+': '+ str(timeit.timeit(str(f[0]), setup='from p1lib import '+str(f[0]) )))"
   ]
  },
  {
   "cell_type": "code",
   "execution_count": null,
   "metadata": {},
   "outputs": [],
   "source": []
  }
 ],
 "metadata": {
  "kernelspec": {
   "display_name": "Python 3",
   "language": "python",
   "name": "python3"
  },
  "language_info": {
   "codemirror_mode": {
    "name": "ipython",
    "version": 3
   },
   "file_extension": ".py",
   "mimetype": "text/x-python",
   "name": "python",
   "nbconvert_exporter": "python",
   "pygments_lexer": "ipython3",
   "version": "3.6.4"
  }
 },
 "nbformat": 4,
 "nbformat_minor": 2
}
